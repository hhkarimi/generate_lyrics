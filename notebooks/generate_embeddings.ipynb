{
 "cells": [
  {
   "cell_type": "code",
   "execution_count": 1,
   "metadata": {},
   "outputs": [],
   "source": [
    "artist_names = [\"Eric Clapton\", \"Jimi Hendrix\", \"Bob Dylan\", \"Eagles\", \"Muddy Waters\"]"
   ]
  },
  {
   "cell_type": "code",
   "execution_count": 2,
   "metadata": {},
   "outputs": [],
   "source": [
    "## download songlyrics.zip from Kaggle, requires log in\n",
    "## https://www.kaggle.com/mousehead/songlyrics/downloads/songlyrics.zip\n",
    "\n",
    "## tf from scratch: \n",
    "## https://github.com/tensorflow/tensorflow/blob/r1.10/tensorflow/examples/tutorials/word2vec/word2vec_basic.py"
   ]
  },
  {
   "cell_type": "code",
   "execution_count": 3,
   "metadata": {},
   "outputs": [],
   "source": [
    "import logging\n",
    "import json\n",
    "import matplotlib.pyplot as plt\n",
    "import numpy as np\n",
    "import os\n",
    "import pandas as pd\n",
    "\n",
    "from gensim.models.word2vec import Word2Vec\n",
    "from nltk import sent_tokenize, word_tokenize\n",
    "from sklearn.cluster import KMeans\n",
    "from sklearn.manifold import TSNE\n",
    "from string import punctuation"
   ]
  },
  {
   "cell_type": "code",
   "execution_count": 4,
   "metadata": {},
   "outputs": [],
   "source": [
    "logging.basicConfig(format='%(asctime)s : %(levelname)s : %(message)s', level=logging.INFO)"
   ]
  },
  {
   "cell_type": "code",
   "execution_count": 5,
   "metadata": {
    "scrolled": true
   },
   "outputs": [],
   "source": [
    "# data = pd.read_csv('./data/kaggle_lyrics/songlyrics.zip')\n",
    "# data.drop(columns=['link'], inplace=True)\n",
    "# data.head()"
   ]
  },
  {
   "cell_type": "code",
   "execution_count": 6,
   "metadata": {
    "scrolled": true
   },
   "outputs": [],
   "source": [
    "# ## use kaggle data set on 57,650 songs (check if it has artists for text generation)\n",
    "# artist_names = ['Eric Clapton', 'Jimi Hendrix', 'Bob Dylan', 'Muddy Waters', 'Eagles']\n",
    "# for artist_name in artist_names:\n",
    "#     print('There are {:03d} songs set for {}.'.format(\n",
    "#         len(data[data['artist'].str.contains(artist_name)]), artist_name))"
   ]
  },
  {
   "cell_type": "code",
   "execution_count": 7,
   "metadata": {},
   "outputs": [],
   "source": [
    "## add songs from the Genius catalog, for which we'll train the text generating model\n",
    "data = pd.DataFrame(columns=['artist', 'song', 'text'])\n",
    "for artist_name in artist_names:\n",
    "    file_path = './data/lyrics_by_artist/{}.json'.format(\n",
    "        artist_name.replace(' ',''))\n",
    "    if os.path.isfile(file_path):\n",
    "        with open(file_path) as f:\n",
    "            tmp = json.load(f)\n",
    "        for i in range(0, len(tmp['artists'][0]['songs'])):\n",
    "            data = data.append({'artist': artist_name,\n",
    "                         'song': tmp['artists'][0]['songs'][i]['title'],\n",
    "                         'text': tmp['artists'][0]['songs'][i]['lyrics']},\n",
    "                       ignore_index=True)"
   ]
  },
  {
   "cell_type": "code",
   "execution_count": 8,
   "metadata": {},
   "outputs": [
    {
     "data": {
      "text/html": [
       "<div>\n",
       "<style scoped>\n",
       "    .dataframe tbody tr th:only-of-type {\n",
       "        vertical-align: middle;\n",
       "    }\n",
       "\n",
       "    .dataframe tbody tr th {\n",
       "        vertical-align: top;\n",
       "    }\n",
       "\n",
       "    .dataframe thead th {\n",
       "        text-align: right;\n",
       "    }\n",
       "</style>\n",
       "<table border=\"1\" class=\"dataframe\">\n",
       "  <thead>\n",
       "    <tr style=\"text-align: right;\">\n",
       "      <th></th>\n",
       "      <th>artist</th>\n",
       "      <th>song</th>\n",
       "      <th>text</th>\n",
       "    </tr>\n",
       "  </thead>\n",
       "  <tbody>\n",
       "    <tr>\n",
       "      <th>1746</th>\n",
       "      <td>Muddy Waters</td>\n",
       "      <td>You need love - stereo version</td>\n",
       "      <td>You've got yearnin' and I got burnin'\\nBaby, y...</td>\n",
       "    </tr>\n",
       "    <tr>\n",
       "      <th>1747</th>\n",
       "      <td>Muddy Waters</td>\n",
       "      <td>Young Fashioned Ways</td>\n",
       "      <td>\\nI may be getting old\\nBut I got young-fashio...</td>\n",
       "    </tr>\n",
       "    <tr>\n",
       "      <th>1748</th>\n",
       "      <td>Muddy Waters</td>\n",
       "      <td>Young Fashioned Ways (Old-Fashioned Ways)</td>\n",
       "      <td>I maybe getting old\\nBut I got young fashioned...</td>\n",
       "    </tr>\n",
       "    <tr>\n",
       "      <th>1749</th>\n",
       "      <td>Muddy Waters</td>\n",
       "      <td>You're Gonna Need My Help I Said</td>\n",
       "      <td>Well now let me tell you people about a low do...</td>\n",
       "    </tr>\n",
       "    <tr>\n",
       "      <th>1750</th>\n",
       "      <td>Muddy Waters</td>\n",
       "      <td>You Shook Me</td>\n",
       "      <td>\\nYou know you shook me\\nYou shook me all nigh...</td>\n",
       "    </tr>\n",
       "  </tbody>\n",
       "</table>\n",
       "</div>"
      ],
      "text/plain": [
       "            artist                                       song  \\\n",
       "1746  Muddy Waters             You need love - stereo version   \n",
       "1747  Muddy Waters                       Young Fashioned Ways   \n",
       "1748  Muddy Waters  Young Fashioned Ways (Old-Fashioned Ways)   \n",
       "1749  Muddy Waters           You're Gonna Need My Help I Said   \n",
       "1750  Muddy Waters                               You Shook Me   \n",
       "\n",
       "                                                   text  \n",
       "1746  You've got yearnin' and I got burnin'\\nBaby, y...  \n",
       "1747  \\nI may be getting old\\nBut I got young-fashio...  \n",
       "1748  I maybe getting old\\nBut I got young fashioned...  \n",
       "1749  Well now let me tell you people about a low do...  \n",
       "1750  \\nYou know you shook me\\nYou shook me all nigh...  "
      ]
     },
     "execution_count": 8,
     "metadata": {},
     "output_type": "execute_result"
    }
   ],
   "source": [
    "data.tail()"
   ]
  },
  {
   "cell_type": "code",
   "execution_count": 9,
   "metadata": {},
   "outputs": [
    {
     "name": "stdout",
     "output_type": "stream",
     "text": [
      "CPU times: user 851 ms, sys: 7.35 ms, total: 859 ms\n",
      "Wall time: 859 ms\n"
     ]
    }
   ],
   "source": [
    "%%time\n",
    "# tokenize lyrics\n",
    "for i, lyrics in enumerate(data['text']):\n",
    "    text = lyrics.replace('\\n', ' line_break ')\n",
    "    text = text.split()\n",
    "    text = [word if word not in punctuation else ' '+word+' ' for word in text]\n",
    "    text = [word if word != 'line_break' else '\\n' for word in text]\n",
    "    data.loc[i, 'text'] = text\n",
    "\n",
    "# data['text'] = data['text'].apply(lambda text: word_tokenize(text.replace('\\n', '. ')))"
   ]
  },
  {
   "cell_type": "code",
   "execution_count": 10,
   "metadata": {},
   "outputs": [
    {
     "data": {
      "text/plain": [
       "['\\n',\n",
       " 'I',\n",
       " 'walked',\n",
       " 'all',\n",
       " 'night',\n",
       " 'long',\n",
       " '\\n',\n",
       " 'With',\n",
       " 'my',\n",
       " '32-20',\n",
       " 'in',\n",
       " 'my',\n",
       " 'hand',\n",
       " '\\n',\n",
       " 'I',\n",
       " 'walked',\n",
       " 'all',\n",
       " 'night',\n",
       " 'long',\n",
       " '\\n',\n",
       " 'With',\n",
       " 'my',\n",
       " '32-20',\n",
       " 'in',\n",
       " 'my',\n",
       " 'hand',\n",
       " '\\n',\n",
       " 'Looking',\n",
       " 'for',\n",
       " 'my',\n",
       " 'woman',\n",
       " '\\n',\n",
       " 'Well,',\n",
       " 'I',\n",
       " 'found',\n",
       " 'her',\n",
       " 'with',\n",
       " 'another',\n",
       " 'man',\n",
       " '\\n',\n",
       " '\\n',\n",
       " 'When',\n",
       " 'I',\n",
       " 'found',\n",
       " 'that',\n",
       " 'woman',\n",
       " '\\n',\n",
       " 'They',\n",
       " 'were',\n",
       " 'walking',\n",
       " 'hand',\n",
       " 'in',\n",
       " 'hand',\n",
       " '\\n',\n",
       " 'When',\n",
       " 'I',\n",
       " 'found',\n",
       " 'that',\n",
       " 'woman',\n",
       " '\\n',\n",
       " 'They',\n",
       " 'were',\n",
       " 'walking',\n",
       " 'hand',\n",
       " 'in',\n",
       " 'hand',\n",
       " '\\n',\n",
       " 'Well,',\n",
       " 'it',\n",
       " 'did',\n",
       " 'surprise',\n",
       " 'me',\n",
       " '\\n',\n",
       " 'When',\n",
       " 'I',\n",
       " 'found',\n",
       " 'her',\n",
       " 'with',\n",
       " 'another',\n",
       " 'man',\n",
       " '\\n',\n",
       " '\\n',\n",
       " 'She',\n",
       " 'started',\n",
       " 'screaming',\n",
       " 'murder',\n",
       " '\\n',\n",
       " 'And',\n",
       " 'I',\n",
       " 'had',\n",
       " 'never',\n",
       " 'raised',\n",
       " 'my',\n",
       " 'hand',\n",
       " '\\n',\n",
       " 'She',\n",
       " 'started',\n",
       " 'screaming',\n",
       " 'murder',\n",
       " '\\n',\n",
       " 'And',\n",
       " 'I',\n",
       " 'had',\n",
       " 'never',\n",
       " 'raised',\n",
       " 'my',\n",
       " 'hand',\n",
       " '\\n',\n",
       " 'Well,',\n",
       " 'she',\n",
       " 'knew',\n",
       " 'that',\n",
       " 'I',\n",
       " 'had',\n",
       " 'them',\n",
       " 'covered',\n",
       " '\\n',\n",
       " 'I',\n",
       " 'had',\n",
       " 'the',\n",
       " 'stuff',\n",
       " 'right',\n",
       " 'there',\n",
       " 'in',\n",
       " 'my',\n",
       " 'hand',\n",
       " '\\n',\n",
       " '\\n',\n",
       " '\\n',\n",
       " \"I'm\",\n",
       " 'no',\n",
       " 'bully',\n",
       " '\\n',\n",
       " 'I',\n",
       " \"don't\",\n",
       " 'go',\n",
       " 'with',\n",
       " 'the',\n",
       " 'baddest',\n",
       " 'man',\n",
       " 'in',\n",
       " 'town',\n",
       " '\\n',\n",
       " \"I'm\",\n",
       " 'no',\n",
       " 'bully',\n",
       " '\\n',\n",
       " 'I',\n",
       " \"don't\",\n",
       " 'go',\n",
       " 'with',\n",
       " 'the',\n",
       " 'baddest',\n",
       " 'man',\n",
       " 'in',\n",
       " 'town',\n",
       " '\\n',\n",
       " 'When',\n",
       " 'I',\n",
       " 'catch',\n",
       " 'a',\n",
       " 'man',\n",
       " 'with',\n",
       " 'my',\n",
       " 'woman',\n",
       " '\\n',\n",
       " 'I',\n",
       " 'usually',\n",
       " 'tear',\n",
       " 'his',\n",
       " 'playhouse',\n",
       " 'down']"
      ]
     },
     "execution_count": 10,
     "metadata": {},
     "output_type": "execute_result"
    }
   ],
   "source": [
    "data['text'][0]"
   ]
  },
  {
   "cell_type": "code",
   "execution_count": 11,
   "metadata": {},
   "outputs": [
    {
     "name": "stderr",
     "output_type": "stream",
     "text": [
      "2018-09-09 22:12:14,151 : INFO : collecting all words and their counts\n",
      "2018-09-09 22:12:14,152 : INFO : PROGRESS: at sentence #0, processed 0 words, keeping 0 word types\n",
      "2018-09-09 22:12:14,243 : INFO : collected 21302 word types from a corpus of 430891 raw words and 1751 sentences\n",
      "2018-09-09 22:12:14,244 : INFO : Loading a fresh vocabulary\n",
      "2018-09-09 22:12:14,267 : INFO : effective_min_count=10 retains 3046 unique words (14% of original 21302, drops 18256)\n",
      "2018-09-09 22:12:14,268 : INFO : effective_min_count=10 leaves 390702 word corpus (90% of original 430891, drops 40189)\n",
      "2018-09-09 22:12:14,278 : INFO : deleting the raw counts dictionary of 21302 items\n",
      "2018-09-09 22:12:14,279 : INFO : sample=0.001 downsamples 45 most-common words\n",
      "2018-09-09 22:12:14,279 : INFO : downsampling leaves estimated 262084 word corpus (67.1% of prior 390702)\n",
      "2018-09-09 22:12:14,288 : INFO : estimated required memory for 3046 words and 128 dimensions: 4642104 bytes\n",
      "2018-09-09 22:12:14,289 : INFO : resetting layer weights\n",
      "2018-09-09 22:12:14,333 : INFO : training model with 6 workers on 3046 vocabulary and 128 features, using sg=0 hs=0 sample=0.001 negative=5 window=10\n",
      "2018-09-09 22:12:14,477 : INFO : worker thread finished; awaiting finish of 5 more threads\n",
      "2018-09-09 22:12:14,482 : INFO : worker thread finished; awaiting finish of 4 more threads\n",
      "2018-09-09 22:12:14,485 : INFO : worker thread finished; awaiting finish of 3 more threads\n",
      "2018-09-09 22:12:14,488 : INFO : worker thread finished; awaiting finish of 2 more threads\n",
      "2018-09-09 22:12:14,493 : INFO : worker thread finished; awaiting finish of 1 more threads\n",
      "2018-09-09 22:12:14,494 : INFO : worker thread finished; awaiting finish of 0 more threads\n",
      "2018-09-09 22:12:14,494 : INFO : EPOCH - 1 : training on 430891 raw words (261838 effective words) took 0.2s, 1669776 effective words/s\n",
      "2018-09-09 22:12:14,639 : INFO : worker thread finished; awaiting finish of 5 more threads\n",
      "2018-09-09 22:12:14,644 : INFO : worker thread finished; awaiting finish of 4 more threads\n",
      "2018-09-09 22:12:14,645 : INFO : worker thread finished; awaiting finish of 3 more threads\n",
      "2018-09-09 22:12:14,650 : INFO : worker thread finished; awaiting finish of 2 more threads\n",
      "2018-09-09 22:12:14,651 : INFO : worker thread finished; awaiting finish of 1 more threads\n",
      "2018-09-09 22:12:14,654 : INFO : worker thread finished; awaiting finish of 0 more threads\n",
      "2018-09-09 22:12:14,654 : INFO : EPOCH - 2 : training on 430891 raw words (262147 effective words) took 0.2s, 1684554 effective words/s\n",
      "2018-09-09 22:12:14,795 : INFO : worker thread finished; awaiting finish of 5 more threads\n",
      "2018-09-09 22:12:14,798 : INFO : worker thread finished; awaiting finish of 4 more threads\n",
      "2018-09-09 22:12:14,801 : INFO : worker thread finished; awaiting finish of 3 more threads\n",
      "2018-09-09 22:12:14,802 : INFO : worker thread finished; awaiting finish of 2 more threads\n",
      "2018-09-09 22:12:14,808 : INFO : worker thread finished; awaiting finish of 1 more threads\n",
      "2018-09-09 22:12:14,809 : INFO : worker thread finished; awaiting finish of 0 more threads\n",
      "2018-09-09 22:12:14,810 : INFO : EPOCH - 3 : training on 430891 raw words (262217 effective words) took 0.2s, 1728599 effective words/s\n",
      "2018-09-09 22:12:14,945 : INFO : worker thread finished; awaiting finish of 5 more threads\n",
      "2018-09-09 22:12:14,950 : INFO : worker thread finished; awaiting finish of 4 more threads\n",
      "2018-09-09 22:12:14,951 : INFO : worker thread finished; awaiting finish of 3 more threads\n",
      "2018-09-09 22:12:14,954 : INFO : worker thread finished; awaiting finish of 2 more threads\n",
      "2018-09-09 22:12:14,955 : INFO : worker thread finished; awaiting finish of 1 more threads\n",
      "2018-09-09 22:12:14,959 : INFO : worker thread finished; awaiting finish of 0 more threads\n",
      "2018-09-09 22:12:14,959 : INFO : EPOCH - 4 : training on 430891 raw words (262018 effective words) took 0.1s, 1809503 effective words/s\n",
      "2018-09-09 22:12:15,104 : INFO : worker thread finished; awaiting finish of 5 more threads\n",
      "2018-09-09 22:12:15,106 : INFO : worker thread finished; awaiting finish of 4 more threads\n",
      "2018-09-09 22:12:15,106 : INFO : worker thread finished; awaiting finish of 3 more threads\n",
      "2018-09-09 22:12:15,109 : INFO : worker thread finished; awaiting finish of 2 more threads\n",
      "2018-09-09 22:12:15,111 : INFO : worker thread finished; awaiting finish of 1 more threads\n",
      "2018-09-09 22:12:15,115 : INFO : worker thread finished; awaiting finish of 0 more threads\n",
      "2018-09-09 22:12:15,115 : INFO : EPOCH - 5 : training on 430891 raw words (262422 effective words) took 0.2s, 1726799 effective words/s\n",
      "2018-09-09 22:12:15,116 : INFO : training on a 2154455 raw words (1310642 effective words) took 0.8s, 1676426 effective words/s\n",
      "2018-09-09 22:12:15,117 : WARNING : Effective 'alpha' higher than previous training cycles\n",
      "2018-09-09 22:12:15,118 : INFO : training model with 6 workers on 3046 vocabulary and 128 features, using sg=0 hs=0 sample=0.001 negative=5 window=10\n",
      "2018-09-09 22:12:15,263 : INFO : worker thread finished; awaiting finish of 5 more threads\n",
      "2018-09-09 22:12:15,269 : INFO : worker thread finished; awaiting finish of 4 more threads\n",
      "2018-09-09 22:12:15,270 : INFO : worker thread finished; awaiting finish of 3 more threads\n",
      "2018-09-09 22:12:15,271 : INFO : worker thread finished; awaiting finish of 2 more threads\n",
      "2018-09-09 22:12:15,275 : INFO : worker thread finished; awaiting finish of 1 more threads\n",
      "2018-09-09 22:12:15,278 : INFO : worker thread finished; awaiting finish of 0 more threads\n",
      "2018-09-09 22:12:15,279 : INFO : EPOCH - 1 : training on 430891 raw words (261807 effective words) took 0.2s, 1683437 effective words/s\n",
      "2018-09-09 22:12:15,431 : INFO : worker thread finished; awaiting finish of 5 more threads\n",
      "2018-09-09 22:12:15,432 : INFO : worker thread finished; awaiting finish of 4 more threads\n",
      "2018-09-09 22:12:15,433 : INFO : worker thread finished; awaiting finish of 3 more threads\n",
      "2018-09-09 22:12:15,437 : INFO : worker thread finished; awaiting finish of 2 more threads\n",
      "2018-09-09 22:12:15,440 : INFO : worker thread finished; awaiting finish of 1 more threads\n",
      "2018-09-09 22:12:15,443 : INFO : worker thread finished; awaiting finish of 0 more threads\n",
      "2018-09-09 22:12:15,444 : INFO : EPOCH - 2 : training on 430891 raw words (261899 effective words) took 0.2s, 1627346 effective words/s\n",
      "2018-09-09 22:12:15,609 : INFO : worker thread finished; awaiting finish of 5 more threads\n",
      "2018-09-09 22:12:15,611 : INFO : worker thread finished; awaiting finish of 4 more threads\n",
      "2018-09-09 22:12:15,615 : INFO : worker thread finished; awaiting finish of 3 more threads\n",
      "2018-09-09 22:12:15,616 : INFO : worker thread finished; awaiting finish of 2 more threads\n",
      "2018-09-09 22:12:15,619 : INFO : worker thread finished; awaiting finish of 1 more threads\n",
      "2018-09-09 22:12:15,622 : INFO : worker thread finished; awaiting finish of 0 more threads\n",
      "2018-09-09 22:12:15,622 : INFO : EPOCH - 3 : training on 430891 raw words (262238 effective words) took 0.2s, 1504183 effective words/s\n",
      "2018-09-09 22:12:15,771 : INFO : worker thread finished; awaiting finish of 5 more threads\n",
      "2018-09-09 22:12:15,775 : INFO : worker thread finished; awaiting finish of 4 more threads\n",
      "2018-09-09 22:12:15,776 : INFO : worker thread finished; awaiting finish of 3 more threads\n",
      "2018-09-09 22:12:15,780 : INFO : worker thread finished; awaiting finish of 2 more threads\n",
      "2018-09-09 22:12:15,783 : INFO : worker thread finished; awaiting finish of 1 more threads\n",
      "2018-09-09 22:12:15,786 : INFO : worker thread finished; awaiting finish of 0 more threads\n",
      "2018-09-09 22:12:15,786 : INFO : EPOCH - 4 : training on 430891 raw words (262075 effective words) took 0.2s, 1640422 effective words/s\n",
      "2018-09-09 22:12:15,921 : INFO : worker thread finished; awaiting finish of 5 more threads\n",
      "2018-09-09 22:12:15,925 : INFO : worker thread finished; awaiting finish of 4 more threads\n",
      "2018-09-09 22:12:15,927 : INFO : worker thread finished; awaiting finish of 3 more threads\n",
      "2018-09-09 22:12:15,932 : INFO : worker thread finished; awaiting finish of 2 more threads\n",
      "2018-09-09 22:12:15,933 : INFO : worker thread finished; awaiting finish of 1 more threads\n",
      "2018-09-09 22:12:15,935 : INFO : worker thread finished; awaiting finish of 0 more threads\n"
     ]
    },
    {
     "name": "stderr",
     "output_type": "stream",
     "text": [
      "2018-09-09 22:12:15,936 : INFO : EPOCH - 5 : training on 430891 raw words (262206 effective words) took 0.1s, 1803279 effective words/s\n",
      "2018-09-09 22:12:16,073 : INFO : worker thread finished; awaiting finish of 5 more threads\n",
      "2018-09-09 22:12:16,078 : INFO : worker thread finished; awaiting finish of 4 more threads\n",
      "2018-09-09 22:12:16,079 : INFO : worker thread finished; awaiting finish of 3 more threads\n",
      "2018-09-09 22:12:16,084 : INFO : worker thread finished; awaiting finish of 2 more threads\n",
      "2018-09-09 22:12:16,085 : INFO : worker thread finished; awaiting finish of 1 more threads\n",
      "2018-09-09 22:12:16,087 : INFO : worker thread finished; awaiting finish of 0 more threads\n",
      "2018-09-09 22:12:16,087 : INFO : EPOCH - 6 : training on 430891 raw words (262236 effective words) took 0.1s, 1775210 effective words/s\n",
      "2018-09-09 22:12:16,239 : INFO : worker thread finished; awaiting finish of 5 more threads\n",
      "2018-09-09 22:12:16,240 : INFO : worker thread finished; awaiting finish of 4 more threads\n",
      "2018-09-09 22:12:16,245 : INFO : worker thread finished; awaiting finish of 3 more threads\n",
      "2018-09-09 22:12:16,246 : INFO : worker thread finished; awaiting finish of 2 more threads\n",
      "2018-09-09 22:12:16,249 : INFO : worker thread finished; awaiting finish of 1 more threads\n",
      "2018-09-09 22:12:16,250 : INFO : worker thread finished; awaiting finish of 0 more threads\n",
      "2018-09-09 22:12:16,251 : INFO : EPOCH - 7 : training on 430891 raw words (262216 effective words) took 0.2s, 1652924 effective words/s\n",
      "2018-09-09 22:12:16,392 : INFO : worker thread finished; awaiting finish of 5 more threads\n",
      "2018-09-09 22:12:16,396 : INFO : worker thread finished; awaiting finish of 4 more threads\n",
      "2018-09-09 22:12:16,398 : INFO : worker thread finished; awaiting finish of 3 more threads\n",
      "2018-09-09 22:12:16,399 : INFO : worker thread finished; awaiting finish of 2 more threads\n",
      "2018-09-09 22:12:16,403 : INFO : worker thread finished; awaiting finish of 1 more threads\n",
      "2018-09-09 22:12:16,405 : INFO : worker thread finished; awaiting finish of 0 more threads\n",
      "2018-09-09 22:12:16,406 : INFO : EPOCH - 8 : training on 430891 raw words (261761 effective words) took 0.2s, 1742414 effective words/s\n",
      "2018-09-09 22:12:16,543 : INFO : worker thread finished; awaiting finish of 5 more threads\n",
      "2018-09-09 22:12:16,548 : INFO : worker thread finished; awaiting finish of 4 more threads\n",
      "2018-09-09 22:12:16,549 : INFO : worker thread finished; awaiting finish of 3 more threads\n",
      "2018-09-09 22:12:16,551 : INFO : worker thread finished; awaiting finish of 2 more threads\n",
      "2018-09-09 22:12:16,553 : INFO : worker thread finished; awaiting finish of 1 more threads\n",
      "2018-09-09 22:12:16,557 : INFO : worker thread finished; awaiting finish of 0 more threads\n",
      "2018-09-09 22:12:16,557 : INFO : EPOCH - 9 : training on 430891 raw words (262225 effective words) took 0.1s, 1783230 effective words/s\n",
      "2018-09-09 22:12:16,714 : INFO : worker thread finished; awaiting finish of 5 more threads\n",
      "2018-09-09 22:12:16,716 : INFO : worker thread finished; awaiting finish of 4 more threads\n",
      "2018-09-09 22:12:16,720 : INFO : worker thread finished; awaiting finish of 3 more threads\n",
      "2018-09-09 22:12:16,721 : INFO : worker thread finished; awaiting finish of 2 more threads\n",
      "2018-09-09 22:12:16,726 : INFO : worker thread finished; awaiting finish of 1 more threads\n",
      "2018-09-09 22:12:16,727 : INFO : worker thread finished; awaiting finish of 0 more threads\n",
      "2018-09-09 22:12:16,728 : INFO : EPOCH - 10 : training on 430891 raw words (262124 effective words) took 0.2s, 1575809 effective words/s\n",
      "2018-09-09 22:12:16,729 : INFO : training on a 4308910 raw words (2620787 effective words) took 1.6s, 1627724 effective words/s\n",
      "2018-09-09 22:12:16,729 : INFO : precomputing L2-norms of word weight vectors\n"
     ]
    },
    {
     "name": "stdout",
     "output_type": "stream",
     "text": [
      "CPU times: user 9.13 s, sys: 153 ms, total: 9.28 s\n",
      "Wall time: 2.58 s\n"
     ]
    },
    {
     "name": "stderr",
     "output_type": "stream",
     "text": [
      "/Users/hkarimi/venvs/py36_dev/lib/python3.6/site-packages/gensim/matutils.py:737: FutureWarning: Conversion of the second argument of issubdtype from `int` to `np.signedinteger` is deprecated. In future, it will be treated as `np.int64 == np.dtype(int).type`.\n",
      "  if np.issubdtype(vec.dtype, np.int):\n"
     ]
    }
   ],
   "source": [
    "%%time\n",
    "## train word2vec nn to generate embeddings\n",
    "model = Word2Vec(data['text'].tolist(), size=128, window=10, min_count=10, workers=6, sg=0, hs=0)\n",
    "model.train(data['text'].tolist(), total_examples=len(data['text']), epochs=10)\n",
    "# note: sg=0,1 (skip gram or cbow by default)\n",
    "# note: hs=0,1 (hierarchical softmax or negative sampling by default)\n",
    "\n",
    "model.wv.most_similar(positive=['man', 'cold'], negative=[], topn=5)"
   ]
  },
  {
   "cell_type": "code",
   "execution_count": 12,
   "metadata": {},
   "outputs": [
    {
     "name": "stdout",
     "output_type": "stream",
     "text": [
      "3046 words picked up.\n"
     ]
    }
   ],
   "source": [
    "## build vocab and embedding matrix\n",
    "vocab = list(model.wv.vocab)\n",
    "embedding_matrix = model.wv[vocab] # shape = [vocab_size, embedding_size]\n",
    "df = pd.DataFrame(embedding_matrix, index=vocab, columns=[\n",
    "    'comp'+str(i) for i in range(0, embedding_matrix.shape[1])])\n",
    "print('{} words picked up.'.format(len(vocab)))"
   ]
  },
  {
   "cell_type": "code",
   "execution_count": 13,
   "metadata": {},
   "outputs": [],
   "source": [
    "## save vocabulary and embedding matrix\n",
    "np.save('./data/vocab.npy', vocab)\n",
    "np.save('./data/embedding_matrix.npy', embedding_matrix)"
   ]
  },
  {
   "cell_type": "code",
   "execution_count": 14,
   "metadata": {},
   "outputs": [],
   "source": [
    "def find_clustered_embeddings(embeddings, distance_threshold, sample_threshold):\n",
    "    ''' \n",
    "    Find only the closely clustered embeddings. \n",
    "    This gets rid of more sparsly distributed word embeddings and make the visualization clearer\n",
    "    This is useful for t-SNE visualization\n",
    "    \n",
    "    distance_threshold: maximum distance between two points to qualify as neighbors\n",
    "    sample_threshold: number of neighbors required to be considered a cluster\n",
    "    '''\n",
    "    \n",
    "    # calculate cosine similarity\n",
    "    cosine_sim = np.dot(embeddings,np.transpose(embeddings))\n",
    "    norm = np.dot(np.sum(embeddings**2,axis=1).reshape(-1,1),np.sum(np.transpose(embeddings)**2,axis=0).reshape(1,-1))\n",
    "    assert cosine_sim.shape == norm.shape\n",
    "    cosine_sim /= norm\n",
    "    \n",
    "    # make all the diagonal entries zero otherwise this will be picked as highest\n",
    "    np.fill_diagonal(cosine_sim, -1.0)\n",
    "    \n",
    "    argmax_cos_sim = np.argmax(cosine_sim, axis=1)\n",
    "    mod_cos_sim = cosine_sim\n",
    "    # find the maximums in a loop to count if there are more than n items above threshold\n",
    "    for _ in range(sample_threshold-1):\n",
    "        argmax_cos_sim = np.argmax(cosine_sim, axis=1)\n",
    "        mod_cos_sim[np.arange(mod_cos_sim.shape[0]),argmax_cos_sim] = -1\n",
    "    \n",
    "    max_cosine_sim = np.max(mod_cos_sim,axis=1)\n",
    "\n",
    "    return np.where(max_cosine_sim>distance_threshold)[0]"
   ]
  },
  {
   "cell_type": "code",
   "execution_count": 15,
   "metadata": {},
   "outputs": [
    {
     "name": "stdout",
     "output_type": "stream",
     "text": [
      "[t-SNE] Computing 121 nearest neighbors...\n",
      "[t-SNE] Indexed 3046 samples in 0.010s...\n",
      "[t-SNE] Computed neighbors for 3046 samples in 1.704s...\n",
      "[t-SNE] Computed conditional probabilities for sample 1000 / 3046\n",
      "[t-SNE] Computed conditional probabilities for sample 2000 / 3046\n",
      "[t-SNE] Computed conditional probabilities for sample 3000 / 3046\n",
      "[t-SNE] Computed conditional probabilities for sample 3046 / 3046\n",
      "[t-SNE] Mean sigma: 0.826417\n",
      "[t-SNE] KL divergence after 250 iterations with early exaggeration: 76.555481\n",
      "[t-SNE] Error after 2500 iterations: 2.439205\n",
      "CPU times: user 4min 1s, sys: 14.5 s, total: 4min 16s\n",
      "Wall time: 4min 17s\n"
     ]
    }
   ],
   "source": [
    "%%time\n",
    "## tsne and visualize\n",
    "num_embeddings = 4000\n",
    "selected_embeddings = embedding_matrix[:num_embeddings,:]\n",
    "\n",
    "tsne = TSNE(perplexity=40, n_components=2, init='pca', n_iter=2500, verbose=1).fit_transform(\n",
    "    selected_embeddings)"
   ]
  },
  {
   "cell_type": "code",
   "execution_count": 24,
   "metadata": {},
   "outputs": [
    {
     "name": "stdout",
     "output_type": "stream",
     "text": [
      "Pruning the T-SNE embeddings\n",
      "Out of  4000  samples,  136  samples were selected by pruning.\n"
     ]
    }
   ],
   "source": [
    "print('Pruning the T-SNE embeddings')\n",
    "# prune the embeddings by getting ones only more than n-many sample above the similarity threshold\n",
    "# this unclutters the visualization\n",
    "selected_ids = find_clustered_embeddings(selected_embeddings, 0.2, 5)\n",
    "tsne_plot = tsne[selected_ids,:]\n",
    "\n",
    "print('Out of ', num_embeddings, ' samples, ',\n",
    "      selected_ids.shape[0],' samples were selected by pruning.')"
   ]
  },
  {
   "cell_type": "code",
   "execution_count": 25,
   "metadata": {},
   "outputs": [
    {
     "data": {
      "image/png": "[encoded data removed]",
      "text/plain": [
       "<Figure size 1080x1080 with 1 Axes>"
      ]
     },
     "metadata": {
      "needs_background": "light"
     },
     "output_type": "display_data"
    }
   ],
   "source": [
    "def plot_tsne(embeddings, labels):\n",
    "\n",
    "    n_clusters = 20 # number of clusters\n",
    "\n",
    "    # automatically build a discrete set of colors, each for cluster\n",
    "    color_map = plt.get_cmap('nipy_spectral')\n",
    "    label_colors = [color_map(float(i)/n_clusters) for i in range(n_clusters)]\n",
    "\n",
    "    assert embeddings.shape[0] >= len(labels), 'More labels than embeddings'\n",
    "\n",
    "    # Define K-Means\n",
    "    kmeans = KMeans(n_clusters=n_clusters, init='k-means++', random_state=0).fit(embeddings)\n",
    "    kmeans_labels = kmeans.labels_\n",
    "\n",
    "    plt.figure(figsize=(15,15))  # in inches\n",
    "\n",
    "    # plot all the embeddings and their corresponding words\n",
    "    for i, (label,klabel) in enumerate(zip(labels,kmeans_labels)):\n",
    "        x, y = embeddings[i,:]\n",
    "        plt.scatter(x, y, c=label_colors[klabel])    \n",
    "\n",
    "        plt.annotate(label, xy=(x, y), xytext=(5, 2), textcoords='offset points',\n",
    "                       ha='right', va='bottom',fontsize=10)\n",
    "\n",
    "    # use for saving the figure if needed\n",
    "    #plt.savefig('word_embeddings.png')\n",
    "    plt.show()\n",
    "\n",
    "vocab_plot = [vocab[i] for i in selected_ids]\n",
    "plot_tsne(tsne_plot, vocab_plot)"
   ]
  },
  {
   "cell_type": "code",
   "execution_count": null,
   "metadata": {},
   "outputs": [],
   "source": []
  }
 ],
 "metadata": {
  "kernelspec": {
   "display_name": "py36_dev",
   "language": "python",
   "name": "py36_dev"
  },
  "language_info": {
   "codemirror_mode": {
    "name": "ipython",
    "version": 3
   },
   "file_extension": ".py",
   "mimetype": "text/x-python",
   "name": "python",
   "nbconvert_exporter": "python",
   "pygments_lexer": "ipython3",
   "version": "3.6.5"
  }
 },
 "nbformat": 4,
 "nbformat_minor": 2
}
