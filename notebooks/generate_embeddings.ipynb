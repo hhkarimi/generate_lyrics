{
 "cells": [
  {
   "cell_type": "code",
   "execution_count": 1,
   "metadata": {},
   "outputs": [],
   "source": [
    "## download songlyrics.zip from Kaggle, requires log in\n",
    "## https://www.kaggle.com/mousehead/songlyrics/downloads/songlyrics.zip"
   ]
  },
  {
   "cell_type": "code",
   "execution_count": 2,
   "metadata": {},
   "outputs": [],
   "source": [
    "import logging\n",
    "import matplotlib.pyplot as plt\n",
    "import pandas as pd\n",
    "\n",
    "from gensim.models.word2vec import Word2Vec\n",
    "from nltk import sent_tokenize, word_tokenize\n",
    "from sklearn.manifold import TSNE"
   ]
  },
  {
   "cell_type": "code",
   "execution_count": 3,
   "metadata": {},
   "outputs": [],
   "source": [
    "logging.basicConfig(format='%(asctime)s : %(levelname)s : %(message)s', level=logging.INFO)"
   ]
  },
  {
   "cell_type": "code",
   "execution_count": 4,
   "metadata": {
    "scrolled": true
   },
   "outputs": [
    {
     "data": {
      "text/html": [
       "<div>\n",
       "<style scoped>\n",
       "    .dataframe tbody tr th:only-of-type {\n",
       "        vertical-align: middle;\n",
       "    }\n",
       "\n",
       "    .dataframe tbody tr th {\n",
       "        vertical-align: top;\n",
       "    }\n",
       "\n",
       "    .dataframe thead th {\n",
       "        text-align: right;\n",
       "    }\n",
       "</style>\n",
       "<table border=\"1\" class=\"dataframe\">\n",
       "  <thead>\n",
       "    <tr style=\"text-align: right;\">\n",
       "      <th></th>\n",
       "      <th>artist</th>\n",
       "      <th>song</th>\n",
       "      <th>text</th>\n",
       "    </tr>\n",
       "  </thead>\n",
       "  <tbody>\n",
       "    <tr>\n",
       "      <th>0</th>\n",
       "      <td>ABBA</td>\n",
       "      <td>Ahe's My Kind Of Girl</td>\n",
       "      <td>Look at her face, it's a wonderful face  \\nAnd...</td>\n",
       "    </tr>\n",
       "    <tr>\n",
       "      <th>1</th>\n",
       "      <td>ABBA</td>\n",
       "      <td>Andante, Andante</td>\n",
       "      <td>Take it easy with me, please  \\nTouch me gentl...</td>\n",
       "    </tr>\n",
       "    <tr>\n",
       "      <th>2</th>\n",
       "      <td>ABBA</td>\n",
       "      <td>As Good As New</td>\n",
       "      <td>I'll never know why I had to go  \\nWhy I had t...</td>\n",
       "    </tr>\n",
       "    <tr>\n",
       "      <th>3</th>\n",
       "      <td>ABBA</td>\n",
       "      <td>Bang</td>\n",
       "      <td>Making somebody happy is a question of give an...</td>\n",
       "    </tr>\n",
       "    <tr>\n",
       "      <th>4</th>\n",
       "      <td>ABBA</td>\n",
       "      <td>Bang-A-Boomerang</td>\n",
       "      <td>Making somebody happy is a question of give an...</td>\n",
       "    </tr>\n",
       "  </tbody>\n",
       "</table>\n",
       "</div>"
      ],
      "text/plain": [
       "  artist                   song  \\\n",
       "0   ABBA  Ahe's My Kind Of Girl   \n",
       "1   ABBA       Andante, Andante   \n",
       "2   ABBA         As Good As New   \n",
       "3   ABBA                   Bang   \n",
       "4   ABBA       Bang-A-Boomerang   \n",
       "\n",
       "                                                text  \n",
       "0  Look at her face, it's a wonderful face  \\nAnd...  \n",
       "1  Take it easy with me, please  \\nTouch me gentl...  \n",
       "2  I'll never know why I had to go  \\nWhy I had t...  \n",
       "3  Making somebody happy is a question of give an...  \n",
       "4  Making somebody happy is a question of give an...  "
      ]
     },
     "execution_count": 4,
     "metadata": {},
     "output_type": "execute_result"
    }
   ],
   "source": [
    "data = pd.read_csv('./data/kaggle_lyrics/songlyrics.zip')\n",
    "data.drop(columns=['link'], inplace=True)\n",
    "data.head()"
   ]
  },
  {
   "cell_type": "code",
   "execution_count": 5,
   "metadata": {
    "scrolled": true
   },
   "outputs": [
    {
     "name": "stdout",
     "output_type": "stream",
     "text": [
      "There are 152 songs set for Eric Clapton.\n",
      "There are 127 songs set for Jimi Hendrix.\n",
      "There are 188 songs set for Bob Dylan.\n",
      "There are 000 songs set for Muddy Waters.\n",
      "There are 041 songs set for Eagles.\n"
     ]
    }
   ],
   "source": [
    "## use kaggle data set on 57,650 songs (check if it has artists for text generation)\n",
    "\n",
    "artist_names = ['Eric Clapton', 'Jimi Hendrix', 'Bob Dylan', 'Muddy Waters', 'Eagles']\n",
    "for artist_name in artist_names:\n",
    "    print('There are {:03d} songs set for {}.'.format(\n",
    "        len(data[data['artist'].str.contains(artist_name)]), artist_name))"
   ]
  },
  {
   "cell_type": "code",
   "execution_count": 6,
   "metadata": {},
   "outputs": [
    {
     "data": {
      "text/plain": [
       "\"Look at her face, it's a wonderful face  . And it means something special to me  . Look at the way that she smiles when she sees me  . How lucky can one fellow be?  .   . She's just my kind of girl, she makes me feel fine  . Who could ever believe that she could be mine?  . She's just my kind of girl, without her I'm blue  . And if she ever leaves me what could I do, what could I do?  .   . And when we go for a walk in the park  . And she holds me and squeezes my hand  . We'll go on walking for hours and talking  . About all the things that we plan  .   . She's just my kind of girl, she makes me feel fine  . Who could ever believe that she could be mine?  . She's just my kind of girl, without her I'm blue  . And if she ever leaves me what could I do, what could I do?. . \""
      ]
     },
     "execution_count": 6,
     "metadata": {},
     "output_type": "execute_result"
    }
   ],
   "source": [
    "data['text'][0].replace('\\n', '. ')"
   ]
  },
  {
   "cell_type": "code",
   "execution_count": 7,
   "metadata": {},
   "outputs": [
    {
     "name": "stdout",
     "output_type": "stream",
     "text": [
      "CPU times: user 4min 21s, sys: 1.9 s, total: 4min 23s\n",
      "Wall time: 4min 24s\n"
     ]
    }
   ],
   "source": [
    "%%time\n",
    "data['text'] = data['text'].apply(lambda text: word_tokenize(text.replace('\\n', '. ')))"
   ]
  },
  {
   "cell_type": "code",
   "execution_count": 8,
   "metadata": {},
   "outputs": [
    {
     "name": "stderr",
     "output_type": "stream",
     "text": [
      "2018-09-04 22:05:00,165 : INFO : collecting all words and their counts\n",
      "2018-09-04 22:05:00,166 : INFO : PROGRESS: at sentence #0, processed 0 words, keeping 0 word types\n",
      "2018-09-04 22:05:00,668 : INFO : PROGRESS: at sentence #10000, processed 2843150 words, keeping 46342 word types\n",
      "2018-09-04 22:05:01,194 : INFO : PROGRESS: at sentence #20000, processed 5778998 words, keeping 69244 word types\n",
      "2018-09-04 22:05:01,710 : INFO : PROGRESS: at sentence #30000, processed 8605139 words, keeping 86151 word types\n",
      "2018-09-04 22:05:02,257 : INFO : PROGRESS: at sentence #40000, processed 11562789 words, keeping 101802 word types\n",
      "2018-09-04 22:05:02,807 : INFO : PROGRESS: at sentence #50000, processed 14573663 words, keeping 117756 word types\n",
      "2018-09-04 22:05:03,222 : INFO : collected 127646 word types from a corpus of 16830688 raw words and 57650 sentences\n",
      "2018-09-04 22:05:03,223 : INFO : Loading a fresh vocabulary\n",
      "2018-09-04 22:05:03,322 : INFO : effective_min_count=50 retains 8573 unique words (6% of original 127646, drops 119073)\n",
      "2018-09-04 22:05:03,323 : INFO : effective_min_count=50 leaves 16270931 word corpus (96% of original 16830688, drops 559757)\n",
      "2018-09-04 22:05:03,351 : INFO : deleting the raw counts dictionary of 127646 items\n",
      "2018-09-04 22:05:03,355 : INFO : sample=0.001 downsamples 51 most-common words\n",
      "2018-09-04 22:05:03,356 : INFO : downsampling leaves estimated 10570857 word corpus (65.0% of prior 16270931)\n",
      "2018-09-04 22:05:03,382 : INFO : estimated required memory for 8573 words and 128 dimensions: 13065252 bytes\n",
      "2018-09-04 22:05:03,382 : INFO : resetting layer weights\n",
      "2018-09-04 22:05:03,496 : INFO : training model with 6 workers on 8573 vocabulary and 128 features, using sg=0 hs=0 sample=0.001 negative=5 window=10\n",
      "2018-09-04 22:05:04,507 : INFO : EPOCH 1 - PROGRESS: at 16.81% examples, 1730651 words/s, in_qsize 10, out_qsize 1\n",
      "2018-09-04 22:05:05,508 : INFO : EPOCH 1 - PROGRESS: at 33.43% examples, 1748501 words/s, in_qsize 11, out_qsize 0\n",
      "2018-09-04 22:05:06,511 : INFO : EPOCH 1 - PROGRESS: at 51.01% examples, 1762844 words/s, in_qsize 12, out_qsize 1\n",
      "2018-09-04 22:05:07,517 : INFO : EPOCH 1 - PROGRESS: at 68.37% examples, 1781254 words/s, in_qsize 11, out_qsize 0\n",
      "2018-09-04 22:05:08,522 : INFO : EPOCH 1 - PROGRESS: at 84.99% examples, 1782427 words/s, in_qsize 10, out_qsize 1\n",
      "2018-09-04 22:05:09,384 : INFO : worker thread finished; awaiting finish of 5 more threads\n",
      "2018-09-04 22:05:09,386 : INFO : worker thread finished; awaiting finish of 4 more threads\n",
      "2018-09-04 22:05:09,389 : INFO : worker thread finished; awaiting finish of 3 more threads\n",
      "2018-09-04 22:05:09,390 : INFO : worker thread finished; awaiting finish of 2 more threads\n",
      "2018-09-04 22:05:09,395 : INFO : worker thread finished; awaiting finish of 1 more threads\n",
      "2018-09-04 22:05:09,397 : INFO : worker thread finished; awaiting finish of 0 more threads\n",
      "2018-09-04 22:05:09,397 : INFO : EPOCH - 1 : training on 16830688 raw words (10571252 effective words) took 5.9s, 1792275 effective words/s\n",
      "2018-09-04 22:05:10,407 : INFO : EPOCH 2 - PROGRESS: at 17.14% examples, 1764230 words/s, in_qsize 10, out_qsize 1\n",
      "2018-09-04 22:05:11,413 : INFO : EPOCH 2 - PROGRESS: at 33.68% examples, 1758588 words/s, in_qsize 10, out_qsize 1\n",
      "2018-09-04 22:05:12,414 : INFO : EPOCH 2 - PROGRESS: at 50.85% examples, 1756142 words/s, in_qsize 10, out_qsize 1\n",
      "2018-09-04 22:05:13,416 : INFO : EPOCH 2 - PROGRESS: at 67.69% examples, 1758489 words/s, in_qsize 11, out_qsize 0\n",
      "2018-09-04 22:05:14,420 : INFO : EPOCH 2 - PROGRESS: at 82.56% examples, 1735067 words/s, in_qsize 10, out_qsize 1\n",
      "2018-09-04 22:05:15,423 : INFO : EPOCH 2 - PROGRESS: at 99.22% examples, 1735756 words/s, in_qsize 11, out_qsize 0\n",
      "2018-09-04 22:05:15,476 : INFO : worker thread finished; awaiting finish of 5 more threads\n",
      "2018-09-04 22:05:15,484 : INFO : worker thread finished; awaiting finish of 4 more threads\n",
      "2018-09-04 22:05:15,485 : INFO : worker thread finished; awaiting finish of 3 more threads\n",
      "2018-09-04 22:05:15,490 : INFO : worker thread finished; awaiting finish of 2 more threads\n",
      "2018-09-04 22:05:15,492 : INFO : worker thread finished; awaiting finish of 1 more threads\n",
      "2018-09-04 22:05:15,495 : INFO : worker thread finished; awaiting finish of 0 more threads\n",
      "2018-09-04 22:05:15,496 : INFO : EPOCH - 2 : training on 16830688 raw words (10569906 effective words) took 6.1s, 1734130 effective words/s\n",
      "2018-09-04 22:05:16,500 : INFO : EPOCH 3 - PROGRESS: at 16.40% examples, 1699907 words/s, in_qsize 11, out_qsize 0\n",
      "2018-09-04 22:05:17,506 : INFO : EPOCH 3 - PROGRESS: at 32.66% examples, 1707353 words/s, in_qsize 10, out_qsize 1\n",
      "2018-09-04 22:05:18,507 : INFO : EPOCH 3 - PROGRESS: at 48.61% examples, 1688540 words/s, in_qsize 10, out_qsize 1\n",
      "2018-09-04 22:05:19,510 : INFO : EPOCH 3 - PROGRESS: at 64.95% examples, 1686441 words/s, in_qsize 11, out_qsize 0\n",
      "2018-09-04 22:05:20,514 : INFO : EPOCH 3 - PROGRESS: at 80.01% examples, 1685472 words/s, in_qsize 11, out_qsize 0\n",
      "2018-09-04 22:05:21,516 : INFO : EPOCH 3 - PROGRESS: at 95.85% examples, 1676465 words/s, in_qsize 11, out_qsize 0\n",
      "2018-09-04 22:05:21,796 : INFO : worker thread finished; awaiting finish of 5 more threads\n",
      "2018-09-04 22:05:21,798 : INFO : worker thread finished; awaiting finish of 4 more threads\n",
      "2018-09-04 22:05:21,799 : INFO : worker thread finished; awaiting finish of 3 more threads\n",
      "2018-09-04 22:05:21,802 : INFO : worker thread finished; awaiting finish of 2 more threads\n",
      "2018-09-04 22:05:21,808 : INFO : worker thread finished; awaiting finish of 1 more threads\n",
      "2018-09-04 22:05:21,809 : INFO : worker thread finished; awaiting finish of 0 more threads\n",
      "2018-09-04 22:05:21,810 : INFO : EPOCH - 3 : training on 16830688 raw words (10572092 effective words) took 6.3s, 1675244 effective words/s\n",
      "2018-09-04 22:05:22,822 : INFO : EPOCH 4 - PROGRESS: at 16.06% examples, 1650978 words/s, in_qsize 10, out_qsize 1\n",
      "2018-09-04 22:05:23,826 : INFO : EPOCH 4 - PROGRESS: at 31.75% examples, 1657069 words/s, in_qsize 10, out_qsize 1\n",
      "2018-09-04 22:05:24,831 : INFO : EPOCH 4 - PROGRESS: at 47.70% examples, 1651143 words/s, in_qsize 10, out_qsize 1\n",
      "2018-09-04 22:05:25,831 : INFO : EPOCH 4 - PROGRESS: at 63.36% examples, 1638271 words/s, in_qsize 10, out_qsize 1\n",
      "2018-09-04 22:05:26,834 : INFO : EPOCH 4 - PROGRESS: at 77.75% examples, 1637630 words/s, in_qsize 10, out_qsize 1\n",
      "2018-09-04 22:05:27,836 : INFO : EPOCH 4 - PROGRESS: at 92.98% examples, 1627388 words/s, in_qsize 11, out_qsize 0\n",
      "2018-09-04 22:05:28,320 : INFO : worker thread finished; awaiting finish of 5 more threads\n",
      "2018-09-04 22:05:28,327 : INFO : worker thread finished; awaiting finish of 4 more threads\n",
      "2018-09-04 22:05:28,329 : INFO : worker thread finished; awaiting finish of 3 more threads\n",
      "2018-09-04 22:05:28,334 : INFO : worker thread finished; awaiting finish of 2 more threads\n",
      "2018-09-04 22:05:28,336 : INFO : worker thread finished; awaiting finish of 1 more threads\n",
      "2018-09-04 22:05:28,341 : INFO : worker thread finished; awaiting finish of 0 more threads\n",
      "2018-09-04 22:05:28,342 : INFO : EPOCH - 4 : training on 16830688 raw words (10571379 effective words) took 6.5s, 1619816 effective words/s\n",
      "2018-09-04 22:05:29,349 : INFO : EPOCH 5 - PROGRESS: at 15.89% examples, 1633914 words/s, in_qsize 12, out_qsize 1\n",
      "2018-09-04 22:05:30,354 : INFO : EPOCH 5 - PROGRESS: at 31.20% examples, 1635384 words/s, in_qsize 11, out_qsize 0\n",
      "2018-09-04 22:05:31,354 : INFO : EPOCH 5 - PROGRESS: at 47.29% examples, 1642381 words/s, in_qsize 10, out_qsize 1\n",
      "2018-09-04 22:05:32,360 : INFO : EPOCH 5 - PROGRESS: at 63.24% examples, 1635287 words/s, in_qsize 10, out_qsize 1\n",
      "2018-09-04 22:05:33,361 : INFO : EPOCH 5 - PROGRESS: at 77.36% examples, 1630946 words/s, in_qsize 10, out_qsize 1\n",
      "2018-09-04 22:05:34,367 : INFO : EPOCH 5 - PROGRESS: at 92.41% examples, 1617634 words/s, in_qsize 10, out_qsize 1\n",
      "2018-09-04 22:05:34,864 : INFO : worker thread finished; awaiting finish of 5 more threads\n",
      "2018-09-04 22:05:34,866 : INFO : worker thread finished; awaiting finish of 4 more threads\n",
      "2018-09-04 22:05:34,869 : INFO : worker thread finished; awaiting finish of 3 more threads\n",
      "2018-09-04 22:05:34,870 : INFO : worker thread finished; awaiting finish of 2 more threads\n"
     ]
    },
    {
     "name": "stderr",
     "output_type": "stream",
     "text": [
      "2018-09-04 22:05:34,877 : INFO : worker thread finished; awaiting finish of 1 more threads\n",
      "2018-09-04 22:05:34,878 : INFO : worker thread finished; awaiting finish of 0 more threads\n",
      "2018-09-04 22:05:34,879 : INFO : EPOCH - 5 : training on 16830688 raw words (10571042 effective words) took 6.5s, 1618055 effective words/s\n",
      "2018-09-04 22:05:34,880 : INFO : training on a 84153440 raw words (52855671 effective words) took 31.4s, 1684167 effective words/s\n",
      "2018-09-04 22:05:34,883 : WARNING : Effective 'alpha' higher than previous training cycles\n",
      "2018-09-04 22:05:34,884 : INFO : training model with 6 workers on 8573 vocabulary and 128 features, using sg=0 hs=0 sample=0.001 negative=5 window=10\n",
      "2018-09-04 22:05:35,893 : INFO : EPOCH 1 - PROGRESS: at 15.77% examples, 1618266 words/s, in_qsize 11, out_qsize 0\n",
      "2018-09-04 22:05:36,895 : INFO : EPOCH 1 - PROGRESS: at 31.02% examples, 1627012 words/s, in_qsize 12, out_qsize 1\n",
      "2018-09-04 22:05:37,896 : INFO : EPOCH 1 - PROGRESS: at 46.86% examples, 1628294 words/s, in_qsize 10, out_qsize 1\n",
      "2018-09-04 22:05:38,905 : INFO : EPOCH 1 - PROGRESS: at 63.07% examples, 1626959 words/s, in_qsize 10, out_qsize 1\n",
      "2018-09-04 22:05:39,907 : INFO : EPOCH 1 - PROGRESS: at 77.08% examples, 1624962 words/s, in_qsize 10, out_qsize 1\n",
      "2018-09-04 22:05:40,910 : INFO : EPOCH 1 - PROGRESS: at 93.18% examples, 1629994 words/s, in_qsize 10, out_qsize 1\n",
      "2018-09-04 22:05:41,341 : INFO : worker thread finished; awaiting finish of 5 more threads\n",
      "2018-09-04 22:05:41,347 : INFO : worker thread finished; awaiting finish of 4 more threads\n",
      "2018-09-04 22:05:41,348 : INFO : worker thread finished; awaiting finish of 3 more threads\n",
      "2018-09-04 22:05:41,353 : INFO : worker thread finished; awaiting finish of 2 more threads\n",
      "2018-09-04 22:05:41,355 : INFO : worker thread finished; awaiting finish of 1 more threads\n",
      "2018-09-04 22:05:41,358 : INFO : worker thread finished; awaiting finish of 0 more threads\n",
      "2018-09-04 22:05:41,359 : INFO : EPOCH - 1 : training on 16830688 raw words (10569684 effective words) took 6.5s, 1633485 effective words/s\n",
      "2018-09-04 22:05:42,364 : INFO : EPOCH 2 - PROGRESS: at 15.93% examples, 1642044 words/s, in_qsize 10, out_qsize 1\n",
      "2018-09-04 22:05:43,370 : INFO : EPOCH 2 - PROGRESS: at 31.38% examples, 1645360 words/s, in_qsize 11, out_qsize 0\n",
      "2018-09-04 22:05:44,374 : INFO : EPOCH 2 - PROGRESS: at 47.29% examples, 1640896 words/s, in_qsize 10, out_qsize 1\n",
      "2018-09-04 22:05:45,379 : INFO : EPOCH 2 - PROGRESS: at 63.68% examples, 1645507 words/s, in_qsize 10, out_qsize 1\n",
      "2018-09-04 22:05:46,382 : INFO : EPOCH 2 - PROGRESS: at 78.24% examples, 1647157 words/s, in_qsize 10, out_qsize 1\n",
      "2018-09-04 22:05:47,388 : INFO : EPOCH 2 - PROGRESS: at 94.37% examples, 1648562 words/s, in_qsize 10, out_qsize 1\n",
      "2018-09-04 22:05:47,757 : INFO : worker thread finished; awaiting finish of 5 more threads\n",
      "2018-09-04 22:05:47,758 : INFO : worker thread finished; awaiting finish of 4 more threads\n",
      "2018-09-04 22:05:47,763 : INFO : worker thread finished; awaiting finish of 3 more threads\n",
      "2018-09-04 22:05:47,764 : INFO : worker thread finished; awaiting finish of 2 more threads\n",
      "2018-09-04 22:05:47,767 : INFO : worker thread finished; awaiting finish of 1 more threads\n",
      "2018-09-04 22:05:47,771 : INFO : worker thread finished; awaiting finish of 0 more threads\n",
      "2018-09-04 22:05:47,771 : INFO : EPOCH - 2 : training on 16830688 raw words (10569786 effective words) took 6.4s, 1649369 effective words/s\n",
      "2018-09-04 22:05:48,776 : INFO : EPOCH 3 - PROGRESS: at 13.54% examples, 1379745 words/s, in_qsize 10, out_qsize 1\n",
      "2018-09-04 22:05:49,779 : INFO : EPOCH 3 - PROGRESS: at 28.62% examples, 1502427 words/s, in_qsize 10, out_qsize 1\n",
      "2018-09-04 22:05:50,785 : INFO : EPOCH 3 - PROGRESS: at 44.48% examples, 1544609 words/s, in_qsize 10, out_qsize 1\n",
      "2018-09-04 22:05:51,787 : INFO : EPOCH 3 - PROGRESS: at 60.51% examples, 1569552 words/s, in_qsize 10, out_qsize 1\n",
      "2018-09-04 22:05:52,788 : INFO : EPOCH 3 - PROGRESS: at 74.87% examples, 1581146 words/s, in_qsize 11, out_qsize 0\n",
      "2018-09-04 22:05:53,791 : INFO : EPOCH 3 - PROGRESS: at 90.77% examples, 1589382 words/s, in_qsize 10, out_qsize 1\n",
      "2018-09-04 22:05:54,396 : INFO : worker thread finished; awaiting finish of 5 more threads\n",
      "2018-09-04 22:05:54,398 : INFO : worker thread finished; awaiting finish of 4 more threads\n",
      "2018-09-04 22:05:54,401 : INFO : worker thread finished; awaiting finish of 3 more threads\n",
      "2018-09-04 22:05:54,402 : INFO : worker thread finished; awaiting finish of 2 more threads\n",
      "2018-09-04 22:05:54,408 : INFO : worker thread finished; awaiting finish of 1 more threads\n",
      "2018-09-04 22:05:54,409 : INFO : worker thread finished; awaiting finish of 0 more threads\n",
      "2018-09-04 22:05:54,410 : INFO : EPOCH - 3 : training on 16830688 raw words (10571225 effective words) took 6.6s, 1593277 effective words/s\n",
      "2018-09-04 22:05:55,416 : INFO : EPOCH 4 - PROGRESS: at 16.02% examples, 1654559 words/s, in_qsize 11, out_qsize 0\n",
      "2018-09-04 22:05:56,417 : INFO : EPOCH 4 - PROGRESS: at 29.97% examples, 1572501 words/s, in_qsize 10, out_qsize 1\n",
      "2018-09-04 22:05:57,420 : INFO : EPOCH 4 - PROGRESS: at 45.20% examples, 1572237 words/s, in_qsize 10, out_qsize 1\n",
      "2018-09-04 22:05:58,420 : INFO : EPOCH 4 - PROGRESS: at 60.84% examples, 1580093 words/s, in_qsize 11, out_qsize 0\n",
      "2018-09-04 22:05:59,422 : INFO : EPOCH 4 - PROGRESS: at 75.15% examples, 1588396 words/s, in_qsize 10, out_qsize 1\n",
      "2018-09-04 22:06:00,426 : INFO : EPOCH 4 - PROGRESS: at 90.67% examples, 1588558 words/s, in_qsize 10, out_qsize 1\n",
      "2018-09-04 22:06:01,024 : INFO : worker thread finished; awaiting finish of 5 more threads\n",
      "2018-09-04 22:06:01,026 : INFO : worker thread finished; awaiting finish of 4 more threads\n",
      "2018-09-04 22:06:01,028 : INFO : worker thread finished; awaiting finish of 3 more threads\n",
      "2018-09-04 22:06:01,031 : INFO : worker thread finished; awaiting finish of 2 more threads\n",
      "2018-09-04 22:06:01,037 : INFO : worker thread finished; awaiting finish of 1 more threads\n",
      "2018-09-04 22:06:01,038 : INFO : worker thread finished; awaiting finish of 0 more threads\n",
      "2018-09-04 22:06:01,039 : INFO : EPOCH - 4 : training on 16830688 raw words (10570933 effective words) took 6.6s, 1595660 effective words/s\n",
      "2018-09-04 22:06:02,049 : INFO : EPOCH 5 - PROGRESS: at 15.77% examples, 1618987 words/s, in_qsize 10, out_qsize 1\n",
      "2018-09-04 22:06:03,053 : INFO : EPOCH 5 - PROGRESS: at 31.26% examples, 1636762 words/s, in_qsize 10, out_qsize 1\n",
      "2018-09-04 22:06:04,057 : INFO : EPOCH 5 - PROGRESS: at 46.81% examples, 1623909 words/s, in_qsize 11, out_qsize 0\n",
      "2018-09-04 22:06:05,061 : INFO : EPOCH 5 - PROGRESS: at 62.74% examples, 1618036 words/s, in_qsize 12, out_qsize 0\n",
      "2018-09-04 22:06:06,065 : INFO : EPOCH 5 - PROGRESS: at 76.45% examples, 1613339 words/s, in_qsize 10, out_qsize 1\n",
      "2018-09-04 22:06:07,073 : INFO : EPOCH 5 - PROGRESS: at 92.04% examples, 1609630 words/s, in_qsize 11, out_qsize 0\n",
      "2018-09-04 22:06:07,575 : INFO : worker thread finished; awaiting finish of 5 more threads\n",
      "2018-09-04 22:06:07,582 : INFO : worker thread finished; awaiting finish of 4 more threads\n",
      "2018-09-04 22:06:07,583 : INFO : worker thread finished; awaiting finish of 3 more threads\n",
      "2018-09-04 22:06:07,588 : INFO : worker thread finished; awaiting finish of 2 more threads\n",
      "2018-09-04 22:06:07,589 : INFO : worker thread finished; awaiting finish of 1 more threads\n",
      "2018-09-04 22:06:07,593 : INFO : worker thread finished; awaiting finish of 0 more threads\n",
      "2018-09-04 22:06:07,594 : INFO : EPOCH - 5 : training on 16830688 raw words (10570980 effective words) took 6.5s, 1614017 effective words/s\n",
      "2018-09-04 22:06:08,599 : INFO : EPOCH 6 - PROGRESS: at 15.51% examples, 1599038 words/s, in_qsize 12, out_qsize 0\n",
      "2018-09-04 22:06:09,603 : INFO : EPOCH 6 - PROGRESS: at 30.91% examples, 1622003 words/s, in_qsize 10, out_qsize 1\n",
      "2018-09-04 22:06:10,608 : INFO : EPOCH 6 - PROGRESS: at 46.36% examples, 1612731 words/s, in_qsize 11, out_qsize 0\n",
      "2018-09-04 22:06:11,611 : INFO : EPOCH 6 - PROGRESS: at 62.26% examples, 1609916 words/s, in_qsize 10, out_qsize 1\n",
      "2018-09-04 22:06:12,622 : INFO : EPOCH 6 - PROGRESS: at 76.45% examples, 1612319 words/s, in_qsize 10, out_qsize 1\n",
      "2018-09-04 22:06:13,623 : INFO : EPOCH 6 - PROGRESS: at 92.34% examples, 1615527 words/s, in_qsize 11, out_qsize 1\n"
     ]
    },
    {
     "name": "stderr",
     "output_type": "stream",
     "text": [
      "2018-09-04 22:06:14,167 : INFO : worker thread finished; awaiting finish of 5 more threads\n",
      "2018-09-04 22:06:14,169 : INFO : worker thread finished; awaiting finish of 4 more threads\n",
      "2018-09-04 22:06:14,172 : INFO : worker thread finished; awaiting finish of 3 more threads\n",
      "2018-09-04 22:06:14,174 : INFO : worker thread finished; awaiting finish of 2 more threads\n",
      "2018-09-04 22:06:14,180 : INFO : worker thread finished; awaiting finish of 1 more threads\n",
      "2018-09-04 22:06:14,181 : INFO : worker thread finished; awaiting finish of 0 more threads\n",
      "2018-09-04 22:06:14,182 : INFO : EPOCH - 6 : training on 16830688 raw words (10570578 effective words) took 6.6s, 1605537 effective words/s\n",
      "2018-09-04 22:06:15,187 : INFO : EPOCH 7 - PROGRESS: at 15.43% examples, 1594693 words/s, in_qsize 10, out_qsize 1\n",
      "2018-09-04 22:06:16,191 : INFO : EPOCH 7 - PROGRESS: at 30.91% examples, 1622623 words/s, in_qsize 10, out_qsize 1\n",
      "2018-09-04 22:06:17,198 : INFO : EPOCH 7 - PROGRESS: at 47.07% examples, 1632700 words/s, in_qsize 11, out_qsize 0\n",
      "2018-09-04 22:06:18,202 : INFO : EPOCH 7 - PROGRESS: at 63.18% examples, 1632042 words/s, in_qsize 10, out_qsize 1\n",
      "2018-09-04 22:06:19,203 : INFO : EPOCH 7 - PROGRESS: at 77.49% examples, 1632966 words/s, in_qsize 12, out_qsize 0\n",
      "2018-09-04 22:06:20,206 : INFO : EPOCH 7 - PROGRESS: at 93.38% examples, 1633537 words/s, in_qsize 11, out_qsize 0\n",
      "2018-09-04 22:06:20,636 : INFO : worker thread finished; awaiting finish of 5 more threads\n",
      "2018-09-04 22:06:20,638 : INFO : worker thread finished; awaiting finish of 4 more threads\n",
      "2018-09-04 22:06:20,643 : INFO : worker thread finished; awaiting finish of 3 more threads\n",
      "2018-09-04 22:06:20,644 : INFO : worker thread finished; awaiting finish of 2 more threads\n",
      "2018-09-04 22:06:20,651 : INFO : worker thread finished; awaiting finish of 1 more threads\n",
      "2018-09-04 22:06:20,652 : INFO : worker thread finished; awaiting finish of 0 more threads\n",
      "2018-09-04 22:06:20,652 : INFO : EPOCH - 7 : training on 16830688 raw words (10569798 effective words) took 6.5s, 1634688 effective words/s\n",
      "2018-09-04 22:06:21,659 : INFO : EPOCH 8 - PROGRESS: at 15.93% examples, 1639545 words/s, in_qsize 10, out_qsize 1\n",
      "2018-09-04 22:06:22,660 : INFO : EPOCH 8 - PROGRESS: at 31.20% examples, 1639061 words/s, in_qsize 10, out_qsize 1\n",
      "2018-09-04 22:06:23,660 : INFO : EPOCH 8 - PROGRESS: at 47.30% examples, 1644872 words/s, in_qsize 10, out_qsize 1\n",
      "2018-09-04 22:06:24,662 : INFO : EPOCH 8 - PROGRESS: at 63.43% examples, 1644036 words/s, in_qsize 10, out_qsize 1\n",
      "2018-09-04 22:06:25,669 : INFO : EPOCH 8 - PROGRESS: at 77.54% examples, 1636008 words/s, in_qsize 10, out_qsize 1\n",
      "2018-09-04 22:06:26,675 : INFO : EPOCH 8 - PROGRESS: at 93.51% examples, 1636414 words/s, in_qsize 10, out_qsize 1\n",
      "2018-09-04 22:06:27,088 : INFO : worker thread finished; awaiting finish of 5 more threads\n",
      "2018-09-04 22:06:27,094 : INFO : worker thread finished; awaiting finish of 4 more threads\n",
      "2018-09-04 22:06:27,095 : INFO : worker thread finished; awaiting finish of 3 more threads\n",
      "2018-09-04 22:06:27,101 : INFO : worker thread finished; awaiting finish of 2 more threads\n",
      "2018-09-04 22:06:27,103 : INFO : worker thread finished; awaiting finish of 1 more threads\n",
      "2018-09-04 22:06:27,106 : INFO : worker thread finished; awaiting finish of 0 more threads\n",
      "2018-09-04 22:06:27,107 : INFO : EPOCH - 8 : training on 16830688 raw words (10573138 effective words) took 6.5s, 1639149 effective words/s\n",
      "2018-09-04 22:06:28,114 : INFO : EPOCH 9 - PROGRESS: at 15.77% examples, 1620398 words/s, in_qsize 11, out_qsize 0\n",
      "2018-09-04 22:06:29,118 : INFO : EPOCH 9 - PROGRESS: at 31.13% examples, 1632789 words/s, in_qsize 11, out_qsize 0\n",
      "2018-09-04 22:06:30,122 : INFO : EPOCH 9 - PROGRESS: at 47.06% examples, 1632581 words/s, in_qsize 11, out_qsize 0\n",
      "2018-09-04 22:06:31,127 : INFO : EPOCH 9 - PROGRESS: at 63.24% examples, 1634963 words/s, in_qsize 12, out_qsize 0\n",
      "2018-09-04 22:06:32,134 : INFO : EPOCH 9 - PROGRESS: at 77.66% examples, 1634517 words/s, in_qsize 10, out_qsize 1\n",
      "2018-09-04 22:06:33,137 : INFO : EPOCH 9 - PROGRESS: at 93.58% examples, 1634945 words/s, in_qsize 10, out_qsize 1\n",
      "2018-09-04 22:06:33,551 : INFO : worker thread finished; awaiting finish of 5 more threads\n",
      "2018-09-04 22:06:33,557 : INFO : worker thread finished; awaiting finish of 4 more threads\n",
      "2018-09-04 22:06:33,559 : INFO : worker thread finished; awaiting finish of 3 more threads\n",
      "2018-09-04 22:06:33,564 : INFO : worker thread finished; awaiting finish of 2 more threads\n",
      "2018-09-04 22:06:33,565 : INFO : worker thread finished; awaiting finish of 1 more threads\n",
      "2018-09-04 22:06:33,568 : INFO : worker thread finished; awaiting finish of 0 more threads\n",
      "2018-09-04 22:06:33,569 : INFO : EPOCH - 9 : training on 16830688 raw words (10570597 effective words) took 6.5s, 1636626 effective words/s\n",
      "2018-09-04 22:06:34,577 : INFO : EPOCH 10 - PROGRESS: at 15.51% examples, 1595139 words/s, in_qsize 10, out_qsize 1\n",
      "2018-09-04 22:06:35,583 : INFO : EPOCH 10 - PROGRESS: at 30.74% examples, 1608721 words/s, in_qsize 10, out_qsize 1\n",
      "2018-09-04 22:06:36,584 : INFO : EPOCH 10 - PROGRESS: at 46.51% examples, 1616626 words/s, in_qsize 11, out_qsize 0\n",
      "2018-09-04 22:06:37,591 : INFO : EPOCH 10 - PROGRESS: at 63.15% examples, 1629195 words/s, in_qsize 10, out_qsize 1\n",
      "2018-09-04 22:06:38,595 : INFO : EPOCH 10 - PROGRESS: at 77.21% examples, 1626038 words/s, in_qsize 10, out_qsize 1\n",
      "2018-09-04 22:06:39,596 : INFO : EPOCH 10 - PROGRESS: at 93.04% examples, 1627423 words/s, in_qsize 10, out_qsize 1\n",
      "2018-09-04 22:06:40,058 : INFO : worker thread finished; awaiting finish of 5 more threads\n",
      "2018-09-04 22:06:40,059 : INFO : worker thread finished; awaiting finish of 4 more threads\n",
      "2018-09-04 22:06:40,062 : INFO : worker thread finished; awaiting finish of 3 more threads\n",
      "2018-09-04 22:06:40,064 : INFO : worker thread finished; awaiting finish of 2 more threads\n",
      "2018-09-04 22:06:40,067 : INFO : worker thread finished; awaiting finish of 1 more threads\n",
      "2018-09-04 22:06:40,070 : INFO : worker thread finished; awaiting finish of 0 more threads\n",
      "2018-09-04 22:06:40,070 : INFO : EPOCH - 10 : training on 16830688 raw words (10568675 effective words) took 6.5s, 1626596 effective words/s\n",
      "2018-09-04 22:06:40,071 : INFO : training on a 168306880 raw words (105705394 effective words) took 65.2s, 1621524 effective words/s\n"
     ]
    },
    {
     "name": "stdout",
     "output_type": "stream",
     "text": [
      "CPU times: user 6min 44s, sys: 4.83 s, total: 6min 49s\n",
      "Wall time: 1min 39s\n"
     ]
    }
   ],
   "source": [
    "%%time\n",
    "## generate embeddings\n",
    "## build vocabulary and train model\n",
    "model = Word2Vec(data['text'].tolist(), size=128, window=10, min_count=50, workers=6, sg=0, hs=0)\n",
    "model.train(data['text'].tolist(), total_examples=len(data['text']), epochs=10)\n",
    "# note: sg=0,1 (skip gram or cbow by default)\n",
    "# note: hs=0,1 (hierarchical softmax or negative sampling by default)"
   ]
  },
  {
   "cell_type": "code",
   "execution_count": 9,
   "metadata": {},
   "outputs": [
    {
     "name": "stderr",
     "output_type": "stream",
     "text": [
      "2018-09-04 22:06:40,079 : INFO : precomputing L2-norms of word weight vectors\n",
      "/Users/hkarimi/venvs/py36_dev/lib/python3.6/site-packages/gensim/matutils.py:737: FutureWarning: Conversion of the second argument of issubdtype from `int` to `np.signedinteger` is deprecated. In future, it will be treated as `np.int64 == np.dtype(int).type`.\n",
      "  if np.issubdtype(vec.dtype, np.int):\n"
     ]
    },
    {
     "data": {
      "text/plain": [
       "[('woman', 0.5074859857559204),\n",
       " ('Cold', 0.5048136115074158),\n",
       " ('blooded', 0.4648822247982025),\n",
       " ('politician', 0.46068206429481506),\n",
       " ('Dom', 0.4527609944343567)]"
      ]
     },
     "execution_count": 9,
     "metadata": {},
     "output_type": "execute_result"
    }
   ],
   "source": [
    "model.wv.most_similar(positive=['man', 'cold'], negative=[], topn=5)"
   ]
  },
  {
   "cell_type": "code",
   "execution_count": 12,
   "metadata": {},
   "outputs": [
    {
     "name": "stdout",
     "output_type": "stream",
     "text": [
      "8573\n"
     ]
    }
   ],
   "source": [
    "## build vocab and embedding matrix\n",
    "vocab = list(model.wv.vocab)\n",
    "embedding_matrix = model.wv[vocab] # shape = [vocab_size, embedding_size]\n",
    "print(len(vocab))"
   ]
  },
  {
   "cell_type": "code",
   "execution_count": 11,
   "metadata": {},
   "outputs": [
    {
     "name": "stdout",
     "output_type": "stream",
     "text": [
      "[t-SNE] Computing 121 nearest neighbors...\n",
      "[t-SNE] Indexed 8573 samples in 0.041s...\n",
      "[t-SNE] Computed neighbors for 8573 samples in 18.372s...\n",
      "[t-SNE] Computed conditional probabilities for sample 1000 / 8573\n",
      "[t-SNE] Computed conditional probabilities for sample 2000 / 8573\n",
      "[t-SNE] Computed conditional probabilities for sample 3000 / 8573\n",
      "[t-SNE] Computed conditional probabilities for sample 4000 / 8573\n",
      "[t-SNE] Computed conditional probabilities for sample 5000 / 8573\n",
      "[t-SNE] Computed conditional probabilities for sample 6000 / 8573\n",
      "[t-SNE] Computed conditional probabilities for sample 7000 / 8573\n",
      "[t-SNE] Computed conditional probabilities for sample 8000 / 8573\n",
      "[t-SNE] Computed conditional probabilities for sample 8573 / 8573\n",
      "[t-SNE] Mean sigma: 2.945211\n",
      "[t-SNE] KL divergence after 250 iterations with early exaggeration: 88.022102\n",
      "[t-SNE] Error after 2500 iterations: 3.014133\n",
      "CPU times: user 13min 29s, sys: 49.3 s, total: 14min 18s\n",
      "Wall time: 14min 20s\n"
     ]
    }
   ],
   "source": [
    "%%time\n",
    "## tsne and visualize\n",
    "tsne = TSNE(perplexity=40, n_components=2, init='pca', n_iter=2500, verbose=1).fit_transform(embedding_matrix)"
   ]
  },
  {
   "cell_type": "code",
   "execution_count": null,
   "metadata": {},
   "outputs": [],
   "source": []
  }
 ],
 "metadata": {
  "kernelspec": {
   "display_name": "py36_dev",
   "language": "python",
   "name": "py36_dev"
  },
  "language_info": {
   "codemirror_mode": {
    "name": "ipython",
    "version": 3
   },
   "file_extension": ".py",
   "mimetype": "text/x-python",
   "name": "python",
   "nbconvert_exporter": "python",
   "pygments_lexer": "ipython3",
   "version": "3.6.5"
  }
 },
 "nbformat": 4,
 "nbformat_minor": 2
}
