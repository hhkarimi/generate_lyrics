{
 "cells": [
  {
   "cell_type": "code",
   "execution_count": 1,
   "metadata": {},
   "outputs": [],
   "source": [
    "## download songlyrics.zip from Kaggle, requires log in\n",
    "## https://www.kaggle.com/mousehead/songlyrics/downloads/songlyrics.zip"
   ]
  },
  {
   "cell_type": "code",
   "execution_count": 2,
   "metadata": {},
   "outputs": [],
   "source": [
    "import pandas as pd\n",
    "\n",
    "from gensim.models import Word2Vec\n",
    "from nltk import sent_tokenize, word_tokenize"
   ]
  },
  {
   "cell_type": "code",
   "execution_count": 3,
   "metadata": {
    "scrolled": true
   },
   "outputs": [
    {
     "data": {
      "text/html": [
       "<div>\n",
       "<style scoped>\n",
       "    .dataframe tbody tr th:only-of-type {\n",
       "        vertical-align: middle;\n",
       "    }\n",
       "\n",
       "    .dataframe tbody tr th {\n",
       "        vertical-align: top;\n",
       "    }\n",
       "\n",
       "    .dataframe thead th {\n",
       "        text-align: right;\n",
       "    }\n",
       "</style>\n",
       "<table border=\"1\" class=\"dataframe\">\n",
       "  <thead>\n",
       "    <tr style=\"text-align: right;\">\n",
       "      <th></th>\n",
       "      <th>artist</th>\n",
       "      <th>song</th>\n",
       "      <th>text</th>\n",
       "    </tr>\n",
       "  </thead>\n",
       "  <tbody>\n",
       "    <tr>\n",
       "      <th>0</th>\n",
       "      <td>ABBA</td>\n",
       "      <td>Ahe's My Kind Of Girl</td>\n",
       "      <td>Look at her face, it's a wonderful face  \\nAnd...</td>\n",
       "    </tr>\n",
       "    <tr>\n",
       "      <th>1</th>\n",
       "      <td>ABBA</td>\n",
       "      <td>Andante, Andante</td>\n",
       "      <td>Take it easy with me, please  \\nTouch me gentl...</td>\n",
       "    </tr>\n",
       "    <tr>\n",
       "      <th>2</th>\n",
       "      <td>ABBA</td>\n",
       "      <td>As Good As New</td>\n",
       "      <td>I'll never know why I had to go  \\nWhy I had t...</td>\n",
       "    </tr>\n",
       "    <tr>\n",
       "      <th>3</th>\n",
       "      <td>ABBA</td>\n",
       "      <td>Bang</td>\n",
       "      <td>Making somebody happy is a question of give an...</td>\n",
       "    </tr>\n",
       "    <tr>\n",
       "      <th>4</th>\n",
       "      <td>ABBA</td>\n",
       "      <td>Bang-A-Boomerang</td>\n",
       "      <td>Making somebody happy is a question of give an...</td>\n",
       "    </tr>\n",
       "  </tbody>\n",
       "</table>\n",
       "</div>"
      ],
      "text/plain": [
       "  artist                   song  \\\n",
       "0   ABBA  Ahe's My Kind Of Girl   \n",
       "1   ABBA       Andante, Andante   \n",
       "2   ABBA         As Good As New   \n",
       "3   ABBA                   Bang   \n",
       "4   ABBA       Bang-A-Boomerang   \n",
       "\n",
       "                                                text  \n",
       "0  Look at her face, it's a wonderful face  \\nAnd...  \n",
       "1  Take it easy with me, please  \\nTouch me gentl...  \n",
       "2  I'll never know why I had to go  \\nWhy I had t...  \n",
       "3  Making somebody happy is a question of give an...  \n",
       "4  Making somebody happy is a question of give an...  "
      ]
     },
     "execution_count": 3,
     "metadata": {},
     "output_type": "execute_result"
    }
   ],
   "source": [
    "data = pd.read_csv('./data/kaggle_lyrics/songlyrics.zip')\n",
    "data.drop(columns=['link'], inplace=True)\n",
    "data.head()"
   ]
  },
  {
   "cell_type": "code",
   "execution_count": 4,
   "metadata": {
    "scrolled": true
   },
   "outputs": [
    {
     "name": "stdout",
     "output_type": "stream",
     "text": [
      "There are 152 songs set for Eric Clapton.\n",
      "There are 127 songs set for Jimi Hendrix.\n",
      "There are 188 songs set for Bob Dylan.\n",
      "There are 000 songs set for Muddy Waters.\n",
      "There are 041 songs set for Eagles.\n"
     ]
    }
   ],
   "source": [
    "## use kaggle data set on 57,650 songs (check if it has artists for text generation)\n",
    "\n",
    "artist_names = ['Eric Clapton', 'Jimi Hendrix', 'Bob Dylan', 'Muddy Waters', 'Eagles']\n",
    "for artist_name in artist_names:\n",
    "    print('There are {:03d} songs set for {}.'.format(\n",
    "        len(data[data['artist'].str.contains(artist_name)]), artist_name))"
   ]
  },
  {
   "cell_type": "code",
   "execution_count": 5,
   "metadata": {},
   "outputs": [
    {
     "data": {
      "text/plain": [
       "\"Look at her face, it's a wonderful face  \\nAnd it means something special to me  \\nLook at the way that she smiles when she sees me  \\nHow lucky can one fellow be?  \\n  \\nShe's just my kind of girl, she makes me feel fine  \\nWho could ever believe that she could be mine?  \\nShe's just my kind of girl, without her I'm blue  \\nAnd if she ever leaves me what could I do, what could I do?  \\n  \\nAnd when we go for a walk in the park  \\nAnd she holds me and squeezes my hand  \\nWe'll go on walking for hours and talking  \\nAbout all the things that we plan  \\n  \\nShe's just my kind of girl, she makes me feel fine  \\nWho could ever believe that she could be mine?  \\nShe's just my kind of girl, without her I'm blue  \\nAnd if she ever leaves me what could I do, what could I do?\\n\\n\""
      ]
     },
     "execution_count": 5,
     "metadata": {},
     "output_type": "execute_result"
    }
   ],
   "source": [
    "data['text'][0]"
   ]
  },
  {
   "cell_type": "code",
   "execution_count": 6,
   "metadata": {},
   "outputs": [
    {
     "name": "stdout",
     "output_type": "stream",
     "text": [
      "CPU times: user 4min 14s, sys: 1.65 s, total: 4min 15s\n",
      "Wall time: 4min 16s\n"
     ]
    }
   ],
   "source": [
    "%%time\n",
    "data['text'] = data['text'].apply(lambda text: word_tokenize(text.replace('\\n', '. ')))"
   ]
  },
  {
   "cell_type": "code",
   "execution_count": 7,
   "metadata": {},
   "outputs": [
    {
     "data": {
      "text/plain": [
       "['Look',\n",
       " 'at',\n",
       " 'her',\n",
       " 'face',\n",
       " ',',\n",
       " 'it',\n",
       " \"'s\",\n",
       " 'a',\n",
       " 'wonderful',\n",
       " 'face',\n",
       " '.',\n",
       " 'And',\n",
       " 'it',\n",
       " 'means',\n",
       " 'something',\n",
       " 'special',\n",
       " 'to',\n",
       " 'me',\n",
       " '.',\n",
       " 'Look',\n",
       " 'at',\n",
       " 'the',\n",
       " 'way',\n",
       " 'that',\n",
       " 'she',\n",
       " 'smiles',\n",
       " 'when',\n",
       " 'she',\n",
       " 'sees',\n",
       " 'me',\n",
       " '.',\n",
       " 'How',\n",
       " 'lucky',\n",
       " 'can',\n",
       " 'one',\n",
       " 'fellow',\n",
       " 'be',\n",
       " '?',\n",
       " '.',\n",
       " '.',\n",
       " 'She',\n",
       " \"'s\",\n",
       " 'just',\n",
       " 'my',\n",
       " 'kind',\n",
       " 'of',\n",
       " 'girl',\n",
       " ',',\n",
       " 'she',\n",
       " 'makes',\n",
       " 'me',\n",
       " 'feel',\n",
       " 'fine',\n",
       " '.',\n",
       " 'Who',\n",
       " 'could',\n",
       " 'ever',\n",
       " 'believe',\n",
       " 'that',\n",
       " 'she',\n",
       " 'could',\n",
       " 'be',\n",
       " 'mine',\n",
       " '?',\n",
       " '.',\n",
       " 'She',\n",
       " \"'s\",\n",
       " 'just',\n",
       " 'my',\n",
       " 'kind',\n",
       " 'of',\n",
       " 'girl',\n",
       " ',',\n",
       " 'without',\n",
       " 'her',\n",
       " 'I',\n",
       " \"'m\",\n",
       " 'blue',\n",
       " '.',\n",
       " 'And',\n",
       " 'if',\n",
       " 'she',\n",
       " 'ever',\n",
       " 'leaves',\n",
       " 'me',\n",
       " 'what',\n",
       " 'could',\n",
       " 'I',\n",
       " 'do',\n",
       " ',',\n",
       " 'what',\n",
       " 'could',\n",
       " 'I',\n",
       " 'do',\n",
       " '?',\n",
       " '.',\n",
       " '.',\n",
       " 'And',\n",
       " 'when',\n",
       " 'we',\n",
       " 'go',\n",
       " 'for',\n",
       " 'a',\n",
       " 'walk',\n",
       " 'in',\n",
       " 'the',\n",
       " 'park',\n",
       " '.',\n",
       " 'And',\n",
       " 'she',\n",
       " 'holds',\n",
       " 'me',\n",
       " 'and',\n",
       " 'squeezes',\n",
       " 'my',\n",
       " 'hand',\n",
       " '.',\n",
       " 'We',\n",
       " \"'ll\",\n",
       " 'go',\n",
       " 'on',\n",
       " 'walking',\n",
       " 'for',\n",
       " 'hours',\n",
       " 'and',\n",
       " 'talking',\n",
       " '.',\n",
       " 'About',\n",
       " 'all',\n",
       " 'the',\n",
       " 'things',\n",
       " 'that',\n",
       " 'we',\n",
       " 'plan',\n",
       " '.',\n",
       " '.',\n",
       " 'She',\n",
       " \"'s\",\n",
       " 'just',\n",
       " 'my',\n",
       " 'kind',\n",
       " 'of',\n",
       " 'girl',\n",
       " ',',\n",
       " 'she',\n",
       " 'makes',\n",
       " 'me',\n",
       " 'feel',\n",
       " 'fine',\n",
       " '.',\n",
       " 'Who',\n",
       " 'could',\n",
       " 'ever',\n",
       " 'believe',\n",
       " 'that',\n",
       " 'she',\n",
       " 'could',\n",
       " 'be',\n",
       " 'mine',\n",
       " '?',\n",
       " '.',\n",
       " 'She',\n",
       " \"'s\",\n",
       " 'just',\n",
       " 'my',\n",
       " 'kind',\n",
       " 'of',\n",
       " 'girl',\n",
       " ',',\n",
       " 'without',\n",
       " 'her',\n",
       " 'I',\n",
       " \"'m\",\n",
       " 'blue',\n",
       " '.',\n",
       " 'And',\n",
       " 'if',\n",
       " 'she',\n",
       " 'ever',\n",
       " 'leaves',\n",
       " 'me',\n",
       " 'what',\n",
       " 'could',\n",
       " 'I',\n",
       " 'do',\n",
       " ',',\n",
       " 'what',\n",
       " 'could',\n",
       " 'I',\n",
       " 'do',\n",
       " '?',\n",
       " '.',\n",
       " '.']"
      ]
     },
     "execution_count": 7,
     "metadata": {},
     "output_type": "execute_result"
    }
   ],
   "source": [
    "data['text'][0]"
   ]
  },
  {
   "cell_type": "code",
   "execution_count": null,
   "metadata": {},
   "outputs": [],
   "source": []
  }
 ],
 "metadata": {
  "kernelspec": {
   "display_name": "py36_dev",
   "language": "python",
   "name": "py36_dev"
  },
  "language_info": {
   "codemirror_mode": {
    "name": "ipython",
    "version": 3
   },
   "file_extension": ".py",
   "mimetype": "text/x-python",
   "name": "python",
   "nbconvert_exporter": "python",
   "pygments_lexer": "ipython3",
   "version": "3.6.5"
  }
 },
 "nbformat": 4,
 "nbformat_minor": 2
}
