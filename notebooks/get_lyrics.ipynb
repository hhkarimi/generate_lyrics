{
 "cells": [
  {
   "cell_type": "code",
   "execution_count": 1,
   "metadata": {
    "collapsed": true
   },
   "outputs": [],
   "source": [
    "import json\n",
    "import logging\n",
    "import lyricsgenius as lg\n",
    "import os\n",
    "\n",
    "## access tokens stored in credentials.py\n",
    "from credentials import client_id, client_secret, client_access_token"
   ]
  },
  {
   "cell_type": "code",
   "execution_count": 2,
   "metadata": {
    "collapsed": true
   },
   "outputs": [],
   "source": [
    "## set up logger\n",
    "logger = logging.getLogger()\n",
    "logger.setLevel(logging.INFO)"
   ]
  },
  {
   "cell_type": "code",
   "execution_count": 3,
   "metadata": {
    "collapsed": true
   },
   "outputs": [],
   "source": [
    "## artists' lyrics to download\n",
    "artists_names = ['Eric Clapton', 'Jimi Hendrix', 'Bob Dylan', 'Muddy Waters', 'Eagles']"
   ]
  },
  {
   "cell_type": "code",
   "execution_count": 4,
   "metadata": {
    "collapsed": true
   },
   "outputs": [],
   "source": [
    "## set client\n",
    "client = lg.Genius(client_access_token)"
   ]
  },
  {
   "cell_type": "code",
   "execution_count": 5,
   "metadata": {
    "collapsed": true
   },
   "outputs": [],
   "source": [
    "def get_artists_songs(genius_client, artists_names, verbose=False, overwrite=False):\n",
    "    for artist_name in artists_names:\n",
    "        filename = './data/lyrics_by_artist/{}'.format(artist_name.replace(' ',''))\n",
    "        if os.path.exists(filename + '.json') and not overwrite:\n",
    "            logger.info('{}.json already exists. Overwrite set to False.  Skipping artist {}'.format(\n",
    "                filename, artist_name))\n",
    "        else:\n",
    "            artist_object = genius_client.search_artist(artist_name, max_songs=None, verbose=verbose)\n",
    "            os.mkdir('./data') if not os.path.exists('./data')\n",
    "            os.mkdir('/data/lyrics_by_artist') if not os.path.exists('./data/lyrics_by_artist')\n",
    "            genius_client.save_artists(artist_object, filename=filename, overwrite=overwrite)"
   ]
  },
  {
   "cell_type": "code",
   "execution_count": 6,
   "metadata": {
    "collapsed": true
   },
   "outputs": [],
   "source": [
    "get_artists_songs(client, artists_names, verbose=True, overwrite=False)"
   ]
  },
  {
   "cell_type": "code",
   "execution_count": 4,
   "metadata": {},
   "outputs": [],
   "source": [
    "with open('./data/lyrics_by_artist/Eagles.json') as f:\n",
    "    data = json.load(f)"
   ]
  },
  {
   "cell_type": "code",
   "execution_count": 24,
   "metadata": {},
   "outputs": [
    {
     "name": "stdout",
     "output_type": "stream",
     "text": [
      "107\n",
      "<class 'list'>\n"
     ]
    }
   ],
   "source": [
    "print(len(data['artists'][0]['songs']))\n",
    "print(type(data['artists'][0]['songs']))"
   ]
  },
  {
   "cell_type": "code",
   "execution_count": 20,
   "metadata": {},
   "outputs": [
    {
     "data": {
      "text/plain": [
       "'After The Thrill Is Gone'"
      ]
     },
     "execution_count": 20,
     "metadata": {},
     "output_type": "execute_result"
    }
   ],
   "source": [
    "data['artists'][0]['songs'][0]['title']"
   ]
  },
  {
   "cell_type": "code",
   "execution_count": 22,
   "metadata": {
    "scrolled": true
   },
   "outputs": [
    {
     "name": "stdout",
     "output_type": "stream",
     "text": [
      "[Verse]\n",
      "Same dances in the same old shoes\n",
      "Some habits that you just can't lose\n",
      "There's no telling what a man might use\n",
      "After the thrill is gone\n",
      "The flame rises but it soon descends\n",
      "Empty pages and a frozen pen\n",
      "You're not quite lovers and you're not quite friends\n",
      "After the thrill is gone, oh\n",
      "After the thrill is gone\n",
      "What can you do when your dreams come true\n",
      "And it's not quite like you planned?\n",
      "What have you done to be losing the one\n",
      "You held it so tight in your hand well\n",
      "Time passes and you must move on\n",
      "Half the distance takes you twice as long\n",
      "So you keep on singing for the sake of the song\n",
      "After the thrill is gone\n",
      "After the thrill is gone\n",
      "\n",
      "[Bridge]\n",
      "You're afraid you might fall out of fashion\n",
      "And you're feeling cold and small\n",
      "Any kind of love without passion\n",
      "That ain't no kind of loving at all, well\n",
      "\n",
      "[Outro]\n",
      "Same dances in the same old shoes\n",
      "You get too careful with the steps you choose\n",
      "You don't care about winning but you don't want to lose\n",
      "After the thrill is gone\n",
      "After the thrill is gone\n",
      "After the thrill is gone, oh\n",
      "After the thrill is gone\n"
     ]
    }
   ],
   "source": [
    "print(data['artists'][0]['songs'][0]['lyrics'])"
   ]
  },
  {
   "cell_type": "code",
   "execution_count": 35,
   "metadata": {},
   "outputs": [
    {
     "name": "stdout",
     "output_type": "stream",
     "text": [
      "After The Thrill Is Gone\n",
      "[Verse]\n",
      "Same dances in the same old shoes\n",
      "Some habits that you just can't lose\n",
      "There's no telling wh\n"
     ]
    }
   ],
   "source": [
    "for i in range(0, len(data['artists'][0]['songs'])):\n",
    "    print(data['artists'][0]['songs'][i]['title'])\n",
    "    print(data['artists'][0]['songs'][i]['lyrics'][:100])\n",
    "    break"
   ]
  }
 ],
 "metadata": {
  "kernelspec": {
   "display_name": "Python 3.6 dev",
   "language": "python",
   "name": "py36_kernel_dev"
  },
  "language_info": {
   "codemirror_mode": {
    "name": "ipython",
    "version": 3
   },
   "file_extension": ".py",
   "mimetype": "text/x-python",
   "name": "python",
   "nbconvert_exporter": "python",
   "pygments_lexer": "ipython3",
   "version": "3.6.0"
  }
 },
 "nbformat": 4,
 "nbformat_minor": 2
}
