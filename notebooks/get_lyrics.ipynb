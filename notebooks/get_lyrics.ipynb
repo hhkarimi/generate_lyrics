{
 "cells": [
  {
   "cell_type": "code",
   "execution_count": 1,
   "metadata": {},
   "outputs": [],
   "source": [
    "import json\n",
    "import logging\n",
    "import lyricsgenius as lg\n",
    "import os\n",
    "\n",
    "## access tokens stored in credentials.py\n",
    "from credentials import client_id, client_secret, client_access_token"
   ]
  },
  {
   "cell_type": "code",
   "execution_count": 2,
   "metadata": {},
   "outputs": [],
   "source": [
    "## set up logger\n",
    "logger = logging.getLogger()\n",
    "logger.setLevel(logging.INFO)"
   ]
  },
  {
   "cell_type": "code",
   "execution_count": 3,
   "metadata": {},
   "outputs": [],
   "source": [
    "## artists' lyrics to download\n",
    "artists_names = ['Eric Clapton', 'Jimi Hendrix', 'Bob Dylan', 'Muddy Waters', 'Eagles']"
   ]
  },
  {
   "cell_type": "code",
   "execution_count": 4,
   "metadata": {},
   "outputs": [],
   "source": [
    "## set client\n",
    "client = lg.Genius(client_access_token)"
   ]
  },
  {
   "cell_type": "code",
   "execution_count": 5,
   "metadata": {},
   "outputs": [],
   "source": [
    "def get_artists_songs(genius_client, artists_names, verbose=False, overwrite=False):\n",
    "    for artist_name in artists_names:\n",
    "        filename = './data/lyrics_by_artist/{}'.format(artist_name.replace(' ',''))\n",
    "        if os.path.exists(filename + '.json') and not overwrite:\n",
    "            logger.info('{}.json already exists. Overwrite set to False.  Skipping artist {}'.format(\n",
    "                filename, artist_name))\n",
    "        else:\n",
    "            artist_object = genius_client.search_artist(artist_name, max_songs=None, verbose=verbose)\n",
    "            genius_client.save_artists(artist_object, filename=filename, overwrite=overwrite)"
   ]
  },
  {
   "cell_type": "code",
   "execution_count": 6,
   "metadata": {},
   "outputs": [],
   "source": [
    "get_artists_songs(client, artists_names, verbose=True, overwrite=False)"
   ]
  },
  {
   "cell_type": "code",
   "execution_count": 7,
   "metadata": {},
   "outputs": [],
   "source": [
    "with open('./data/lyrics_by_artist/EricClapton.json') as f:\n",
    "    data = json.load(f)"
   ]
  },
  {
   "cell_type": "code",
   "execution_count": 8,
   "metadata": {},
   "outputs": [
    {
     "data": {
      "text/plain": [
       "461"
      ]
     },
     "execution_count": 8,
     "metadata": {},
     "output_type": "execute_result"
    }
   ],
   "source": [
    "len(data['artists'][0]['songs'])"
   ]
  }
 ],
 "metadata": {
  "kernelspec": {
   "display_name": "py36_dev",
   "language": "python",
   "name": "py36_dev"
  },
  "language_info": {
   "codemirror_mode": {
    "name": "ipython",
    "version": 3
   },
   "file_extension": ".py",
   "mimetype": "text/x-python",
   "name": "python",
   "nbconvert_exporter": "python",
   "pygments_lexer": "ipython3",
   "version": "3.6.5"
  }
 },
 "nbformat": 4,
 "nbformat_minor": 2
}
