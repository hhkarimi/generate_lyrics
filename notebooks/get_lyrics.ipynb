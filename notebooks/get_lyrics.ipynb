{
 "cells": [
  {
   "cell_type": "code",
   "execution_count": 1,
   "metadata": {
    "collapsed": true
   },
   "outputs": [],
   "source": [
    "import json\n",
    "import logging\n",
    "import lyricsgenius as lg\n",
    "import os\n",
    "\n",
    "## access tokens stored in credentials.py\n",
    "from credentials import client_id, client_secret, client_access_token"
   ]
  },
  {
   "cell_type": "code",
   "execution_count": 2,
   "metadata": {
    "collapsed": true
   },
   "outputs": [],
   "source": [
    "## set up logger\n",
    "logging.getLogger().setLevel(logging.INFO)\n",
    "# logger = logging.getLogger()\n",
    "# logger.setLevel(logging.INFO)\n",
    "# logging.info('ok')"
   ]
  },
  {
   "cell_type": "code",
   "execution_count": 3,
   "metadata": {
    "collapsed": true
   },
   "outputs": [],
   "source": [
    "## artists' lyrics to download\n",
    "artists_names = ['Eric Clapton', 'Jimi Hendrix', 'Bob Dylan', 'Muddy Waters', 'Eagles']"
   ]
  },
  {
   "cell_type": "code",
   "execution_count": 4,
   "metadata": {
    "collapsed": true
   },
   "outputs": [],
   "source": [
    "## set client\n",
    "client = lg.Genius(client_access_token)"
   ]
  },
  {
   "cell_type": "code",
   "execution_count": 5,
   "metadata": {
    "collapsed": true
   },
   "outputs": [],
   "source": [
    "def get_artists_songs(genius_client, artists_names, verbose=False, overwrite=False):\n",
    "    for artist_name in artists_names:\n",
    "        filename = './data/lyrics_by_artist/{}'.format(artist_name.replace(' ',''))\n",
    "        if os.path.exists(filename + '.json') and not overwrite:\n",
    "            logging.info('{}.json already exists. Overwrite set to False.  Skipping artist {}'.format(\n",
    "                filename, artist_name))\n",
    "        else:\n",
    "            artist_object = genius_client.search_artist(artist_name, max_songs=None, verbose=verbose)\n",
    "            if not os.path.exists('./data'): os.mkdir('./data')\n",
    "            if not os.path.exists('./data/lyrics_by_artist'): os.mkdir('/data/lyrics_by_artist')\n",
    "            genius_client.save_artists(artist_object, filename=filename, overwrite=overwrite)"
   ]
  },
  {
   "cell_type": "code",
   "execution_count": 6,
   "metadata": {},
   "outputs": [
    {
     "name": "stdout",
     "output_type": "stream",
     "text": [
      "Searching for songs by Eric Clapton...\n",
      "\n",
      "Song 1: \"32-20\"\n",
      "Song 2: \"32-20 Blues\"\n",
      "Song 3: \"44\"\n",
      "Song 4: \"A Certain Girl\"\n",
      "Song 5: \"After Midnight\"\n",
      "Song 6: \"After midnight - live at the budokan theatre, tokyo / 1979\"\n",
      "Song 7: \"After midnight - live from madison square garden\"\n",
      "Song 8: \"Ain't Going Down\"\n",
      "Song 9: \"Ain't Nobody's Business\"\n",
      "Song 10: \"Ain't Nobody's Business If I Do\"\n",
      "Song 11: \"Ain't That Loving You\"\n",
      "Song 12: \"Ain't That Lovin' You\"\n",
      "Song 13: \"Alabama Woman Blues\"\n",
      "Song 14: \"Alberta (Acoustic Live)\"\n",
      "Song 15: \"Alberta - live at hammersmith odeon\"\n",
      "Song 16: \"All Of Me\"\n",
      "Song 17: \"All of me - commentary\"\n",
      "Song 18: \"All Our Past Times\"\n",
      "Song 19: \"All our past times - live at the budokan theatre, tokyo / 1979\"\n",
      "Song 20: \"All Your Love\"\n",
      "Song 21: \"Angel\"\n",
      "Song 22: \"Angel - commentary\"\n",
      "Song 23: \"Another Ticket\"\n",
      "Song 24: \"Anyday\"\n",
      "Song 25: \"Anyone For Tennis\"\n",
      "Song 26: \"Anything For Your Love\"\n",
      "Song 27: \"Anyway The Wind Blows\"\n",
      "Song 28: \"Autumn Leaves\"\n",
      "Song 29: \"Baby What's Wrong\"\n",
      "Song 30: \"Back Home\"\n",
      "Song 31: \"Bad Boy\"\n",
      "Song 32: \"Badge\"\n",
      "Song 33: \"Badge - live at hammersmith\"\n",
      "Song 34: \"Badge - live at hammersmith odeon\"\n",
      "Song 35: \"Bad Influence\"\n",
      "Song 36: \"Bad Love\"\n",
      "Song 37: \"Beautiful Thing\"\n",
      "Song 38: \"Before You Accuse Me\"\n",
      "Song 39: \"Before You Accuse Me (Acoustic Live)\"\n",
      "Song 40: \"Before You Accuse Me (Take a Look at Yourself) (version 2)\"\n",
      "Song 41: \"Behind the Mask\"\n",
      "Song 42: \"Behind The Sun\"\n",
      "Song 43: \"Believe In Life\"\n",
      "Song 44: \"Bell Bottom Blues\"\n",
      "Song 45: \"Better Make It Through Today\"\n",
      "Song 46: \"Better Make It Through Today (original quadrophonic mix)\"\n",
      "Song 47: \"Better make it through today - vinyl lp version\"\n",
      "Song 48: \"Beware of Darkness\"\n",
      "Song 49: \"Big Boss Man\"\n",
      "Song 50: \"Black Rose\"\n",
      "Song 51: \"Black Summer Rain\"\n",
      "Song 52: \"Blow Wind Blow\"\n",
      "Song 53: \"Blue Eyes Blue\"\n",
      "Song 54: \"Blues Before Sunrise\"\n",
      "Song 55: \"Blues Leave Me Alone\"\n",
      "Song 56: \"Blues Power\"\n",
      "Song 57: \"Blues power - live at the budokan theatre, tokyo / 1979\"\n",
      "Song 58: \"Boom Boom\"\n",
      "Song 59: \"Boom Boom (Out Goes the Light)\"\n",
      "Song 60: \"Border Song\"\n",
      "Song 61: \"Born In Time\"\n",
      "Song 62: \"Born To Lose\"\n",
      "Song 63: \"Born to lose - commentary\"\n",
      "Song 64: \"Born Under A Bad Sign\"\n",
      "Song 65: \"Bottle Of Red Wine\"\n",
      "Song 66: \"Breaking Point\"\n",
      "Song 67: \"Broken Down\"\n",
      "Song 68: \"Broken Hearted\"\n",
      "Song 69: \"Cajun Moon\"\n",
      "Song 70: \"Call Me the Breeze\"\n",
      "Song 71: \"Can't Find My Way Home\"\n",
      "Song 72: \"Can't find my way home - live at hammersmith\"\n",
      "Song 73: \"Can't find my way home - live at hammersmith odeon\"\n",
      "Song 74: \"Can't find my way home - live at long beach arena, california / 1974\"\n",
      "Song 75: \"Can't find my way home - live from madison square garden\"\n",
      "Song 76: \"Can't Hold Out Much Longer\"\n",
      "Song 77: \"Can't Let You Do It\"\n",
      "Song 78: \"Carnival\"\n",
      "Song 79: \"Catch Me If You Can\"\n",
      "Song 80: \"Catch The Blues\"\n",
      "Song 81: \"Change The World\"\n",
      "Song 82: \"Choker\"\n",
      "Song 83: \"Christmas Tears - Live\"\n",
      "Song 84: \"Circus\"\n",
      "Song 85: \"Cocaine\"\n",
      "Song 86: \"Cocaine (5.1 mix)\"\n",
      "Song 87: \"Cocaine (Live)\"\n",
      "Song 88: \"Cocaine - live from madison square garden\"\n",
      "Song 89: \"Come Back Baby\"\n",
      "Song 90: \"Come On In My Kitchen\"\n",
      "Song 91: \"Come on in My Kitchen [Electric Version] by Eric Clapton\"\n",
      "Song 92: \"Come Rain Or Come Shine\"\n",
      "Song 93: \"Comin' Home\"\n",
      "Song 94: \"County Jail Blues\"\n",
      "Song 95: \"Crazy Country Hop\"\n",
      "Song 96: \"Crosscut Saw\"\n",
      "Song 97: \"Crossroads\"\n",
      "Song 98: \"Crossroads (feat. The Powerhouse)\"\n",
      "Song 99: \"Crossroads (Live)\"\n",
      "Song 100: \"Cryin\"\n",
      "Song 101: \"Crying Eyes\"\n",
      "Song 102: \"Cypress Grove\"\n",
      "Song 103: \"Danger\"\n",
      "Song 104: \"Danny Boy\"\n",
      "Song 105: \"Days Of Old\"\n",
      "Song 106: \"Dead End Road\"\n",
      "Song 107: \"Dear Mr. Fantasy\"\n",
      "Song 108: \"Dear mr. fantasy - live from madison square garden\"\n",
      "Song 109: \"Diamonds Made From Rain\"\n",
      "Song 110: \"Don't Blame Me\"\n",
      "Song 111: \"Don't Blame Me (original quadrophonic mix)\"\n",
      "Song 112: \"Don't Cry Sister\"\n",
      "Song 113: \"Don't Know Which Way To Go\"\n",
      "Song 114: \"Don't Know Why\"\n",
      "Song 115: \"Don't know why - olympic studios version\"\n",
      "Song 116: \"Don't Let Me Be Lonely Tonight\"\n",
      "Song 117: \"Don't Think Twice, It's All Right\"\n",
      "Song 118: \"Don't think twice, it's all right - remastered\"\n",
      "Song 119: \"Don't Wait\"\n",
      "Song 120: \"Double Trouble\"\n",
      "Song 121: \"Double Trouble (Live)\"\n",
      "Song 122: \"Double trouble - live at the budokan theatre, tokyo / 1979\"\n",
      "Song 123: \"Double trouble - live from madison square garden\"\n",
      "Song 124: \"Driftin'\"\n",
      "Song 125: \"Driftin' Blues\"\n",
      "Song 126: \"Driftin' Blues (live)\"\n",
      "Song 127: \"Driftin' blues / rambling on my mind - live\"\n",
      "Song 128: \"Driftin' blues / ramblin' on my mind - live at long beach arena, california / 1974\"\n",
      "Song 129: \"Drifting Blues\"\n",
      "Song 130: \"Early In The Morning\"\n",
      "Song 131: \"Early In the Morning (Live)\"\n",
      "Song 132: \"Early in the morning - live at the budokan theatre, tokyo / 1979\"\n",
      "Song 133: \"Easy Now\"\n",
      "Song 134: \"Edge Of Darkness\"\n",
      "Song 135: \"Eric Clapton - Unplugged- Layla (Accoustic Version)\"\n",
      "Song 136: \"Everybody Oughta Make A Change\"\n",
      "Song 137: \"Everybody Ought to Make a Change\"\n",
      "Song 138: \"Every Little Thing\"\n",
      "Song 139: \"Every little thing - commentary\"\n",
      "Song 140: \"Everything Will Be Alright\"\n",
      "Song 141: \"Evil\"\n",
      "Song 142: \"Eyesight To The Blind\"\n",
      "Song 143: \"Eyesight To The Blind/Why Does Love Got To Be So Sad?\"\n",
      "Song 144: \"Fall Like Rain\"\n",
      "Song 145: \"Find Myself\"\n",
      "Song 146: \"First Time I Met The Blues\"\n",
      "Song 147: \"Five Long Years\"\n",
      "Song 148: \"Floating Bridge\"\n",
      "Song 149: \"Forever Man\"\n",
      "Song 150: \"Forever man - live from madison square garden\"\n",
      "Song 151: \"Forty-Four\"\n",
      "Song 152: \"For Your Love\"\n",
      "Song 153: \"Four Until Late\"\n",
      "Song 154: \"Freight Loader\"\n",
      "Song 155: \"Freight Train\"\n",
      "Song 156: \"From Four Until Late\"\n",
      "Song 157: \"Further On Down The Road\"\n",
      "Song 158: \"Further On Up The Road\"\n",
      "Song 159: \"Further on up the road - live at the budokan theatre, tokyo / 1979\"\n",
      "Song 160: \"Further on up the road - live version\"\n",
      "Song 161: \"Georgia On My Mind\"\n",
      "Song 162: \"Georgia on my mind - live from madison square garden\"\n",
      "Song 163: \"Get Lost (David Morales club mix)\"\n",
      "Song 164: \"Get Lost (David Morales radio edit)\"\n",
      "Song 165: \"Get Lost (original version)\"\n",
      "Song 166: \"Get Lost (Stereo dub)\"\n",
      "Song 167: \"Get Lost (Yost acoustic Tears mix)\"\n",
      "Song 168: \"Get Lost (Yost Lost & Found dub)\"\n",
      "Song 169: \"Get Lost (Yost Nothing Without U mix)\"\n",
      "Song 170: \"Get Lost (Yost Nothing Without U radio edit)\"\n",
      "Song 171: \"Get Ready\"\n",
      "Song 172: \"Get Ready (5.1 mix)\"\n",
      "Song 173: \"Get Ready (Elliot Scheiner 5.1 mix)\"\n",
      "Song 174: \"Get Ready (original quadrophonic mix)\"\n",
      "Song 175: \"Give Me Strength\"\n",
      "Song 176: \"Give Me Strength (5.1 mix)\"\n",
      "Song 177: \"Give Me Strength (Dobro 1)\"\n",
      "Song 178: \"Give Me Strength (Elliot Scheiner 5.1 mix)\"\n",
      "Song 179: \"Give Me Strength (original quadrophonic mix)\"\n",
      "Song 180: \"Glad\"\n",
      "Song 181: \"Glad - live from madison square garden\"\n",
      "Song 182: \"Goin' Away Baby\"\n",
      "Song 183: \"Goin' Down Slow\"\n",
      "Song 184: \"Goin' Down Slow/Rambling On My Mind\"\n",
      "Song 185: \"Going Down Slow\"\n",
      "Song 186: \"Going Left\"\n",
      "Song 187: \"Golden Ring\"\n",
      "Song 188: \"Good Morning Little Schoolgirl\"\n",
      "Song 189: \"Goodnight Irene\"\n",
      "Song 190: \"Goodnight irene - commentary\"\n",
      "Song 191: \"Go To Get Better In A Little While\"\n",
      "Song 192: \"Gotta Get Over\"\n",
      "Song 193: \"Gotta get over - commentary\"\n",
      "Song 194: \"Got To Get Better In A Little While\"\n",
      "Song 195: \"Got To Hurry\"\n",
      "Song 196: \"Got You On My Mind\"\n",
      "Song 197: \"Grand Illusion\"\n",
      "Song 198: \"Groaning The Blues\"\n"
     ]
    },
    {
     "ename": "ReadTimeout",
     "evalue": "HTTPSConnectionPool(host='api.genius.com', port=443): Read timed out. (read timeout=5)",
     "output_type": "error",
     "traceback": [
      "\u001b[0;31m---------------------------------------------------------------------------\u001b[0m",
      "\u001b[0;31mtimeout\u001b[0m                                   Traceback (most recent call last)",
      "\u001b[0;32m/wayfair/home/hkarimi/venvs/py36_kernel_dev/lib/python3.6/site-packages/urllib3/connectionpool.py\u001b[0m in \u001b[0;36m_make_request\u001b[0;34m(self, conn, method, url, timeout, chunked, **httplib_request_kw)\u001b[0m\n\u001b[1;32m    386\u001b[0m                     \u001b[0;31m# otherwise it looks like a programming error was the cause.\u001b[0m\u001b[0;34m\u001b[0m\u001b[0;34m\u001b[0m\u001b[0m\n\u001b[0;32m--> 387\u001b[0;31m                     \u001b[0msix\u001b[0m\u001b[0;34m.\u001b[0m\u001b[0mraise_from\u001b[0m\u001b[0;34m(\u001b[0m\u001b[0me\u001b[0m\u001b[0;34m,\u001b[0m \u001b[0;32mNone\u001b[0m\u001b[0;34m)\u001b[0m\u001b[0;34m\u001b[0m\u001b[0m\n\u001b[0m\u001b[1;32m    388\u001b[0m         \u001b[0;32mexcept\u001b[0m \u001b[0;34m(\u001b[0m\u001b[0mSocketTimeout\u001b[0m\u001b[0;34m,\u001b[0m \u001b[0mBaseSSLError\u001b[0m\u001b[0;34m,\u001b[0m \u001b[0mSocketError\u001b[0m\u001b[0;34m)\u001b[0m \u001b[0;32mas\u001b[0m \u001b[0me\u001b[0m\u001b[0;34m:\u001b[0m\u001b[0;34m\u001b[0m\u001b[0m\n",
      "\u001b[0;32m/wayfair/home/hkarimi/venvs/py36_kernel_dev/lib/python3.6/site-packages/urllib3/packages/six.py\u001b[0m in \u001b[0;36mraise_from\u001b[0;34m(value, from_value)\u001b[0m\n",
      "\u001b[0;32m/wayfair/home/hkarimi/venvs/py36_kernel_dev/lib/python3.6/site-packages/urllib3/connectionpool.py\u001b[0m in \u001b[0;36m_make_request\u001b[0;34m(self, conn, method, url, timeout, chunked, **httplib_request_kw)\u001b[0m\n\u001b[1;32m    382\u001b[0m                 \u001b[0;32mtry\u001b[0m\u001b[0;34m:\u001b[0m\u001b[0;34m\u001b[0m\u001b[0m\n\u001b[0;32m--> 383\u001b[0;31m                     \u001b[0mhttplib_response\u001b[0m \u001b[0;34m=\u001b[0m \u001b[0mconn\u001b[0m\u001b[0;34m.\u001b[0m\u001b[0mgetresponse\u001b[0m\u001b[0;34m(\u001b[0m\u001b[0;34m)\u001b[0m\u001b[0;34m\u001b[0m\u001b[0m\n\u001b[0m\u001b[1;32m    384\u001b[0m                 \u001b[0;32mexcept\u001b[0m \u001b[0mException\u001b[0m \u001b[0;32mas\u001b[0m \u001b[0me\u001b[0m\u001b[0;34m:\u001b[0m\u001b[0;34m\u001b[0m\u001b[0m\n",
      "\u001b[0;32m/usr/lib64/python3.6/http/client.py\u001b[0m in \u001b[0;36mgetresponse\u001b[0;34m(self)\u001b[0m\n\u001b[1;32m   1330\u001b[0m             \u001b[0;32mtry\u001b[0m\u001b[0;34m:\u001b[0m\u001b[0;34m\u001b[0m\u001b[0m\n\u001b[0;32m-> 1331\u001b[0;31m                 \u001b[0mresponse\u001b[0m\u001b[0;34m.\u001b[0m\u001b[0mbegin\u001b[0m\u001b[0;34m(\u001b[0m\u001b[0;34m)\u001b[0m\u001b[0;34m\u001b[0m\u001b[0m\n\u001b[0m\u001b[1;32m   1332\u001b[0m             \u001b[0;32mexcept\u001b[0m \u001b[0mConnectionError\u001b[0m\u001b[0;34m:\u001b[0m\u001b[0;34m\u001b[0m\u001b[0m\n",
      "\u001b[0;32m/usr/lib64/python3.6/http/client.py\u001b[0m in \u001b[0;36mbegin\u001b[0;34m(self)\u001b[0m\n\u001b[1;32m    296\u001b[0m         \u001b[0;32mwhile\u001b[0m \u001b[0;32mTrue\u001b[0m\u001b[0;34m:\u001b[0m\u001b[0;34m\u001b[0m\u001b[0m\n\u001b[0;32m--> 297\u001b[0;31m             \u001b[0mversion\u001b[0m\u001b[0;34m,\u001b[0m \u001b[0mstatus\u001b[0m\u001b[0;34m,\u001b[0m \u001b[0mreason\u001b[0m \u001b[0;34m=\u001b[0m \u001b[0mself\u001b[0m\u001b[0;34m.\u001b[0m\u001b[0m_read_status\u001b[0m\u001b[0;34m(\u001b[0m\u001b[0;34m)\u001b[0m\u001b[0;34m\u001b[0m\u001b[0m\n\u001b[0m\u001b[1;32m    298\u001b[0m             \u001b[0;32mif\u001b[0m \u001b[0mstatus\u001b[0m \u001b[0;34m!=\u001b[0m \u001b[0mCONTINUE\u001b[0m\u001b[0;34m:\u001b[0m\u001b[0;34m\u001b[0m\u001b[0m\n",
      "\u001b[0;32m/usr/lib64/python3.6/http/client.py\u001b[0m in \u001b[0;36m_read_status\u001b[0;34m(self)\u001b[0m\n\u001b[1;32m    257\u001b[0m     \u001b[0;32mdef\u001b[0m \u001b[0m_read_status\u001b[0m\u001b[0;34m(\u001b[0m\u001b[0mself\u001b[0m\u001b[0;34m)\u001b[0m\u001b[0;34m:\u001b[0m\u001b[0;34m\u001b[0m\u001b[0m\n\u001b[0;32m--> 258\u001b[0;31m         \u001b[0mline\u001b[0m \u001b[0;34m=\u001b[0m \u001b[0mstr\u001b[0m\u001b[0;34m(\u001b[0m\u001b[0mself\u001b[0m\u001b[0;34m.\u001b[0m\u001b[0mfp\u001b[0m\u001b[0;34m.\u001b[0m\u001b[0mreadline\u001b[0m\u001b[0;34m(\u001b[0m\u001b[0m_MAXLINE\u001b[0m \u001b[0;34m+\u001b[0m \u001b[0;36m1\u001b[0m\u001b[0;34m)\u001b[0m\u001b[0;34m,\u001b[0m \u001b[0;34m\"iso-8859-1\"\u001b[0m\u001b[0;34m)\u001b[0m\u001b[0;34m\u001b[0m\u001b[0m\n\u001b[0m\u001b[1;32m    259\u001b[0m         \u001b[0;32mif\u001b[0m \u001b[0mlen\u001b[0m\u001b[0;34m(\u001b[0m\u001b[0mline\u001b[0m\u001b[0;34m)\u001b[0m \u001b[0;34m>\u001b[0m \u001b[0m_MAXLINE\u001b[0m\u001b[0;34m:\u001b[0m\u001b[0;34m\u001b[0m\u001b[0m\n",
      "\u001b[0;32m/usr/lib64/python3.6/socket.py\u001b[0m in \u001b[0;36mreadinto\u001b[0;34m(self, b)\u001b[0m\n\u001b[1;32m    585\u001b[0m             \u001b[0;32mtry\u001b[0m\u001b[0;34m:\u001b[0m\u001b[0;34m\u001b[0m\u001b[0m\n\u001b[0;32m--> 586\u001b[0;31m                 \u001b[0;32mreturn\u001b[0m \u001b[0mself\u001b[0m\u001b[0;34m.\u001b[0m\u001b[0m_sock\u001b[0m\u001b[0;34m.\u001b[0m\u001b[0mrecv_into\u001b[0m\u001b[0;34m(\u001b[0m\u001b[0mb\u001b[0m\u001b[0;34m)\u001b[0m\u001b[0;34m\u001b[0m\u001b[0m\n\u001b[0m\u001b[1;32m    587\u001b[0m             \u001b[0;32mexcept\u001b[0m \u001b[0mtimeout\u001b[0m\u001b[0;34m:\u001b[0m\u001b[0;34m\u001b[0m\u001b[0m\n",
      "\u001b[0;32m/usr/lib64/python3.6/ssl.py\u001b[0m in \u001b[0;36mrecv_into\u001b[0;34m(self, buffer, nbytes, flags)\u001b[0m\n\u001b[1;32m   1001\u001b[0m                   self.__class__)\n\u001b[0;32m-> 1002\u001b[0;31m             \u001b[0;32mreturn\u001b[0m \u001b[0mself\u001b[0m\u001b[0;34m.\u001b[0m\u001b[0mread\u001b[0m\u001b[0;34m(\u001b[0m\u001b[0mnbytes\u001b[0m\u001b[0;34m,\u001b[0m \u001b[0mbuffer\u001b[0m\u001b[0;34m)\u001b[0m\u001b[0;34m\u001b[0m\u001b[0m\n\u001b[0m\u001b[1;32m   1003\u001b[0m         \u001b[0;32melse\u001b[0m\u001b[0;34m:\u001b[0m\u001b[0;34m\u001b[0m\u001b[0m\n",
      "\u001b[0;32m/usr/lib64/python3.6/ssl.py\u001b[0m in \u001b[0;36mread\u001b[0;34m(self, len, buffer)\u001b[0m\n\u001b[1;32m    864\u001b[0m         \u001b[0;32mtry\u001b[0m\u001b[0;34m:\u001b[0m\u001b[0;34m\u001b[0m\u001b[0m\n\u001b[0;32m--> 865\u001b[0;31m             \u001b[0;32mreturn\u001b[0m \u001b[0mself\u001b[0m\u001b[0;34m.\u001b[0m\u001b[0m_sslobj\u001b[0m\u001b[0;34m.\u001b[0m\u001b[0mread\u001b[0m\u001b[0;34m(\u001b[0m\u001b[0mlen\u001b[0m\u001b[0;34m,\u001b[0m \u001b[0mbuffer\u001b[0m\u001b[0;34m)\u001b[0m\u001b[0;34m\u001b[0m\u001b[0m\n\u001b[0m\u001b[1;32m    866\u001b[0m         \u001b[0;32mexcept\u001b[0m \u001b[0mSSLError\u001b[0m \u001b[0;32mas\u001b[0m \u001b[0mx\u001b[0m\u001b[0;34m:\u001b[0m\u001b[0;34m\u001b[0m\u001b[0m\n",
      "\u001b[0;32m/usr/lib64/python3.6/ssl.py\u001b[0m in \u001b[0;36mread\u001b[0;34m(self, len, buffer)\u001b[0m\n\u001b[1;32m    624\u001b[0m         \u001b[0;32mif\u001b[0m \u001b[0mbuffer\u001b[0m \u001b[0;32mis\u001b[0m \u001b[0;32mnot\u001b[0m \u001b[0;32mNone\u001b[0m\u001b[0;34m:\u001b[0m\u001b[0;34m\u001b[0m\u001b[0m\n\u001b[0;32m--> 625\u001b[0;31m             \u001b[0mv\u001b[0m \u001b[0;34m=\u001b[0m \u001b[0mself\u001b[0m\u001b[0;34m.\u001b[0m\u001b[0m_sslobj\u001b[0m\u001b[0;34m.\u001b[0m\u001b[0mread\u001b[0m\u001b[0;34m(\u001b[0m\u001b[0mlen\u001b[0m\u001b[0;34m,\u001b[0m \u001b[0mbuffer\u001b[0m\u001b[0;34m)\u001b[0m\u001b[0;34m\u001b[0m\u001b[0m\n\u001b[0m\u001b[1;32m    626\u001b[0m         \u001b[0;32melse\u001b[0m\u001b[0;34m:\u001b[0m\u001b[0;34m\u001b[0m\u001b[0m\n",
      "\u001b[0;31mtimeout\u001b[0m: The read operation timed out",
      "\nDuring handling of the above exception, another exception occurred:\n",
      "\u001b[0;31mReadTimeoutError\u001b[0m                          Traceback (most recent call last)",
      "\u001b[0;32m/wayfair/home/hkarimi/venvs/py36_kernel_dev/lib/python3.6/site-packages/requests/adapters.py\u001b[0m in \u001b[0;36msend\u001b[0;34m(self, request, stream, timeout, verify, cert, proxies)\u001b[0m\n\u001b[1;32m    439\u001b[0m                     \u001b[0mretries\u001b[0m\u001b[0;34m=\u001b[0m\u001b[0mself\u001b[0m\u001b[0;34m.\u001b[0m\u001b[0mmax_retries\u001b[0m\u001b[0;34m,\u001b[0m\u001b[0;34m\u001b[0m\u001b[0m\n\u001b[0;32m--> 440\u001b[0;31m                     \u001b[0mtimeout\u001b[0m\u001b[0;34m=\u001b[0m\u001b[0mtimeout\u001b[0m\u001b[0;34m\u001b[0m\u001b[0m\n\u001b[0m\u001b[1;32m    441\u001b[0m                 )\n",
      "\u001b[0;32m/wayfair/home/hkarimi/venvs/py36_kernel_dev/lib/python3.6/site-packages/urllib3/connectionpool.py\u001b[0m in \u001b[0;36murlopen\u001b[0;34m(self, method, url, body, headers, retries, redirect, assert_same_host, timeout, pool_timeout, release_conn, chunked, body_pos, **response_kw)\u001b[0m\n\u001b[1;32m    638\u001b[0m             retries = retries.increment(method, url, error=e, _pool=self,\n\u001b[0;32m--> 639\u001b[0;31m                                         _stacktrace=sys.exc_info()[2])\n\u001b[0m\u001b[1;32m    640\u001b[0m             \u001b[0mretries\u001b[0m\u001b[0;34m.\u001b[0m\u001b[0msleep\u001b[0m\u001b[0;34m(\u001b[0m\u001b[0;34m)\u001b[0m\u001b[0;34m\u001b[0m\u001b[0m\n",
      "\u001b[0;32m/wayfair/home/hkarimi/venvs/py36_kernel_dev/lib/python3.6/site-packages/urllib3/util/retry.py\u001b[0m in \u001b[0;36mincrement\u001b[0;34m(self, method, url, response, error, _pool, _stacktrace)\u001b[0m\n\u001b[1;32m    356\u001b[0m             \u001b[0;32mif\u001b[0m \u001b[0mread\u001b[0m \u001b[0;32mis\u001b[0m \u001b[0;32mFalse\u001b[0m \u001b[0;32mor\u001b[0m \u001b[0;32mnot\u001b[0m \u001b[0mself\u001b[0m\u001b[0;34m.\u001b[0m\u001b[0m_is_method_retryable\u001b[0m\u001b[0;34m(\u001b[0m\u001b[0mmethod\u001b[0m\u001b[0;34m)\u001b[0m\u001b[0;34m:\u001b[0m\u001b[0;34m\u001b[0m\u001b[0m\n\u001b[0;32m--> 357\u001b[0;31m                 \u001b[0;32mraise\u001b[0m \u001b[0msix\u001b[0m\u001b[0;34m.\u001b[0m\u001b[0mreraise\u001b[0m\u001b[0;34m(\u001b[0m\u001b[0mtype\u001b[0m\u001b[0;34m(\u001b[0m\u001b[0merror\u001b[0m\u001b[0;34m)\u001b[0m\u001b[0;34m,\u001b[0m \u001b[0merror\u001b[0m\u001b[0;34m,\u001b[0m \u001b[0m_stacktrace\u001b[0m\u001b[0;34m)\u001b[0m\u001b[0;34m\u001b[0m\u001b[0m\n\u001b[0m\u001b[1;32m    358\u001b[0m             \u001b[0;32melif\u001b[0m \u001b[0mread\u001b[0m \u001b[0;32mis\u001b[0m \u001b[0;32mnot\u001b[0m \u001b[0;32mNone\u001b[0m\u001b[0;34m:\u001b[0m\u001b[0;34m\u001b[0m\u001b[0m\n",
      "\u001b[0;32m/wayfair/home/hkarimi/venvs/py36_kernel_dev/lib/python3.6/site-packages/urllib3/packages/six.py\u001b[0m in \u001b[0;36mreraise\u001b[0;34m(tp, value, tb)\u001b[0m\n\u001b[1;32m    685\u001b[0m             \u001b[0;32mraise\u001b[0m \u001b[0mvalue\u001b[0m\u001b[0;34m.\u001b[0m\u001b[0mwith_traceback\u001b[0m\u001b[0;34m(\u001b[0m\u001b[0mtb\u001b[0m\u001b[0;34m)\u001b[0m\u001b[0;34m\u001b[0m\u001b[0m\n\u001b[0;32m--> 686\u001b[0;31m         \u001b[0;32mraise\u001b[0m \u001b[0mvalue\u001b[0m\u001b[0;34m\u001b[0m\u001b[0m\n\u001b[0m\u001b[1;32m    687\u001b[0m \u001b[0;34m\u001b[0m\u001b[0m\n",
      "\u001b[0;32m/wayfair/home/hkarimi/venvs/py36_kernel_dev/lib/python3.6/site-packages/urllib3/connectionpool.py\u001b[0m in \u001b[0;36murlopen\u001b[0;34m(self, method, url, body, headers, retries, redirect, assert_same_host, timeout, pool_timeout, release_conn, chunked, body_pos, **response_kw)\u001b[0m\n\u001b[1;32m    600\u001b[0m                                                   \u001b[0mbody\u001b[0m\u001b[0;34m=\u001b[0m\u001b[0mbody\u001b[0m\u001b[0;34m,\u001b[0m \u001b[0mheaders\u001b[0m\u001b[0;34m=\u001b[0m\u001b[0mheaders\u001b[0m\u001b[0;34m,\u001b[0m\u001b[0;34m\u001b[0m\u001b[0m\n\u001b[0;32m--> 601\u001b[0;31m                                                   chunked=chunked)\n\u001b[0m\u001b[1;32m    602\u001b[0m \u001b[0;34m\u001b[0m\u001b[0m\n",
      "\u001b[0;32m/wayfair/home/hkarimi/venvs/py36_kernel_dev/lib/python3.6/site-packages/urllib3/connectionpool.py\u001b[0m in \u001b[0;36m_make_request\u001b[0;34m(self, conn, method, url, timeout, chunked, **httplib_request_kw)\u001b[0m\n\u001b[1;32m    388\u001b[0m         \u001b[0;32mexcept\u001b[0m \u001b[0;34m(\u001b[0m\u001b[0mSocketTimeout\u001b[0m\u001b[0;34m,\u001b[0m \u001b[0mBaseSSLError\u001b[0m\u001b[0;34m,\u001b[0m \u001b[0mSocketError\u001b[0m\u001b[0;34m)\u001b[0m \u001b[0;32mas\u001b[0m \u001b[0me\u001b[0m\u001b[0;34m:\u001b[0m\u001b[0;34m\u001b[0m\u001b[0m\n\u001b[0;32m--> 389\u001b[0;31m             \u001b[0mself\u001b[0m\u001b[0;34m.\u001b[0m\u001b[0m_raise_timeout\u001b[0m\u001b[0;34m(\u001b[0m\u001b[0merr\u001b[0m\u001b[0;34m=\u001b[0m\u001b[0me\u001b[0m\u001b[0;34m,\u001b[0m \u001b[0murl\u001b[0m\u001b[0;34m=\u001b[0m\u001b[0murl\u001b[0m\u001b[0;34m,\u001b[0m \u001b[0mtimeout_value\u001b[0m\u001b[0;34m=\u001b[0m\u001b[0mread_timeout\u001b[0m\u001b[0;34m)\u001b[0m\u001b[0;34m\u001b[0m\u001b[0m\n\u001b[0m\u001b[1;32m    390\u001b[0m             \u001b[0;32mraise\u001b[0m\u001b[0;34m\u001b[0m\u001b[0m\n",
      "\u001b[0;32m/wayfair/home/hkarimi/venvs/py36_kernel_dev/lib/python3.6/site-packages/urllib3/connectionpool.py\u001b[0m in \u001b[0;36m_raise_timeout\u001b[0;34m(self, err, url, timeout_value)\u001b[0m\n\u001b[1;32m    308\u001b[0m         \u001b[0;32mif\u001b[0m \u001b[0misinstance\u001b[0m\u001b[0;34m(\u001b[0m\u001b[0merr\u001b[0m\u001b[0;34m,\u001b[0m \u001b[0mSocketTimeout\u001b[0m\u001b[0;34m)\u001b[0m\u001b[0;34m:\u001b[0m\u001b[0;34m\u001b[0m\u001b[0m\n\u001b[0;32m--> 309\u001b[0;31m             \u001b[0;32mraise\u001b[0m \u001b[0mReadTimeoutError\u001b[0m\u001b[0;34m(\u001b[0m\u001b[0mself\u001b[0m\u001b[0;34m,\u001b[0m \u001b[0murl\u001b[0m\u001b[0;34m,\u001b[0m \u001b[0;34m\"Read timed out. (read timeout=%s)\"\u001b[0m \u001b[0;34m%\u001b[0m \u001b[0mtimeout_value\u001b[0m\u001b[0;34m)\u001b[0m\u001b[0;34m\u001b[0m\u001b[0m\n\u001b[0m\u001b[1;32m    310\u001b[0m \u001b[0;34m\u001b[0m\u001b[0m\n",
      "\u001b[0;31mReadTimeoutError\u001b[0m: HTTPSConnectionPool(host='api.genius.com', port=443): Read timed out. (read timeout=5)",
      "\nDuring handling of the above exception, another exception occurred:\n",
      "\u001b[0;31mReadTimeout\u001b[0m                               Traceback (most recent call last)",
      "\u001b[0;32m<ipython-input-6-5bf8b9b21e4d>\u001b[0m in \u001b[0;36m<module>\u001b[0;34m()\u001b[0m\n\u001b[0;32m----> 1\u001b[0;31m \u001b[0mget_artists_songs\u001b[0m\u001b[0;34m(\u001b[0m\u001b[0mclient\u001b[0m\u001b[0;34m,\u001b[0m \u001b[0martists_names\u001b[0m\u001b[0;34m,\u001b[0m \u001b[0mverbose\u001b[0m\u001b[0;34m=\u001b[0m\u001b[0;32mTrue\u001b[0m\u001b[0;34m,\u001b[0m \u001b[0moverwrite\u001b[0m\u001b[0;34m=\u001b[0m\u001b[0;32mFalse\u001b[0m\u001b[0;34m)\u001b[0m\u001b[0;34m\u001b[0m\u001b[0m\n\u001b[0m",
      "\u001b[0;32m<ipython-input-5-08c917668856>\u001b[0m in \u001b[0;36mget_artists_songs\u001b[0;34m(genius_client, artists_names, verbose, overwrite)\u001b[0m\n\u001b[1;32m      6\u001b[0m                 filename, artist_name))\n\u001b[1;32m      7\u001b[0m         \u001b[0;32melse\u001b[0m\u001b[0;34m:\u001b[0m\u001b[0;34m\u001b[0m\u001b[0m\n\u001b[0;32m----> 8\u001b[0;31m             \u001b[0martist_object\u001b[0m \u001b[0;34m=\u001b[0m \u001b[0mgenius_client\u001b[0m\u001b[0;34m.\u001b[0m\u001b[0msearch_artist\u001b[0m\u001b[0;34m(\u001b[0m\u001b[0martist_name\u001b[0m\u001b[0;34m,\u001b[0m \u001b[0mmax_songs\u001b[0m\u001b[0;34m=\u001b[0m\u001b[0;32mNone\u001b[0m\u001b[0;34m,\u001b[0m \u001b[0mverbose\u001b[0m\u001b[0;34m=\u001b[0m\u001b[0mverbose\u001b[0m\u001b[0;34m)\u001b[0m\u001b[0;34m\u001b[0m\u001b[0m\n\u001b[0m\u001b[1;32m      9\u001b[0m             \u001b[0;32mif\u001b[0m \u001b[0;32mnot\u001b[0m \u001b[0mos\u001b[0m\u001b[0;34m.\u001b[0m\u001b[0mpath\u001b[0m\u001b[0;34m.\u001b[0m\u001b[0mexists\u001b[0m\u001b[0;34m(\u001b[0m\u001b[0;34m'./data'\u001b[0m\u001b[0;34m)\u001b[0m\u001b[0;34m:\u001b[0m \u001b[0mos\u001b[0m\u001b[0;34m.\u001b[0m\u001b[0mmkdir\u001b[0m\u001b[0;34m(\u001b[0m\u001b[0;34m'./data'\u001b[0m\u001b[0;34m)\u001b[0m\u001b[0;34m\u001b[0m\u001b[0m\n\u001b[1;32m     10\u001b[0m             \u001b[0;32mif\u001b[0m \u001b[0;32mnot\u001b[0m \u001b[0mos\u001b[0m\u001b[0;34m.\u001b[0m\u001b[0mpath\u001b[0m\u001b[0;34m.\u001b[0m\u001b[0mexists\u001b[0m\u001b[0;34m(\u001b[0m\u001b[0;34m'./data/lyrics_by_artist'\u001b[0m\u001b[0;34m)\u001b[0m\u001b[0;34m:\u001b[0m \u001b[0mos\u001b[0m\u001b[0;34m.\u001b[0m\u001b[0mmkdir\u001b[0m\u001b[0;34m(\u001b[0m\u001b[0;34m'/data/lyrics_by_artist'\u001b[0m\u001b[0;34m)\u001b[0m\u001b[0;34m\u001b[0m\u001b[0m\n",
      "\u001b[0;32m/wayfair/home/hkarimi/venvs/py36_kernel_dev/lib/python3.6/site-packages/lyricsgenius/api.py\u001b[0m in \u001b[0;36msearch_artist\u001b[0;34m(self, artist_name, max_songs, take_first_result, get_full_song_info, remove_section_headers, remove_non_songs, verbose)\u001b[0m\n\u001b[1;32m    276\u001b[0m                         \u001b[0;31m# Create song object for current song\u001b[0m\u001b[0;34m\u001b[0m\u001b[0;34m\u001b[0m\u001b[0m\n\u001b[1;32m    277\u001b[0m                         \u001b[0;32mif\u001b[0m \u001b[0mget_full_song_info\u001b[0m\u001b[0;34m:\u001b[0m\u001b[0;34m\u001b[0m\u001b[0m\n\u001b[0;32m--> 278\u001b[0;31m                             \u001b[0msong\u001b[0m \u001b[0;34m=\u001b[0m \u001b[0mSong\u001b[0m\u001b[0;34m(\u001b[0m\u001b[0mself\u001b[0m\u001b[0;34m.\u001b[0m\u001b[0mget_song\u001b[0m\u001b[0;34m(\u001b[0m\u001b[0mjson_song\u001b[0m\u001b[0;34m[\u001b[0m\u001b[0;34m'id'\u001b[0m\u001b[0;34m]\u001b[0m\u001b[0;34m)\u001b[0m\u001b[0;34m,\u001b[0m \u001b[0mlyrics\u001b[0m\u001b[0;34m)\u001b[0m\u001b[0;34m\u001b[0m\u001b[0m\n\u001b[0m\u001b[1;32m    279\u001b[0m                         \u001b[0;32melse\u001b[0m\u001b[0;34m:\u001b[0m\u001b[0;34m\u001b[0m\u001b[0m\n\u001b[1;32m    280\u001b[0m                             \u001b[0;31m# Create song with less info (faster)\u001b[0m\u001b[0;34m\u001b[0m\u001b[0;34m\u001b[0m\u001b[0m\n",
      "\u001b[0;32m/wayfair/home/hkarimi/venvs/py36_kernel_dev/lib/python3.6/site-packages/lyricsgenius/api.py\u001b[0m in \u001b[0;36mget_song\u001b[0;34m(self, id_)\u001b[0m\n\u001b[1;32m     72\u001b[0m         \u001b[0;34m\"\"\"Data for a specific song.\"\"\"\u001b[0m\u001b[0;34m\u001b[0m\u001b[0m\n\u001b[1;32m     73\u001b[0m         \u001b[0mendpoint\u001b[0m \u001b[0;34m=\u001b[0m \u001b[0;34m\"songs/{id}\"\u001b[0m\u001b[0;34m.\u001b[0m\u001b[0mformat\u001b[0m\u001b[0;34m(\u001b[0m\u001b[0mid\u001b[0m\u001b[0;34m=\u001b[0m\u001b[0mid_\u001b[0m\u001b[0;34m)\u001b[0m\u001b[0;34m\u001b[0m\u001b[0m\n\u001b[0;32m---> 74\u001b[0;31m         \u001b[0;32mreturn\u001b[0m \u001b[0mself\u001b[0m\u001b[0;34m.\u001b[0m\u001b[0m_make_request\u001b[0m\u001b[0;34m(\u001b[0m\u001b[0mendpoint\u001b[0m\u001b[0;34m)\u001b[0m\u001b[0;34m\u001b[0m\u001b[0m\n\u001b[0m\u001b[1;32m     75\u001b[0m \u001b[0;34m\u001b[0m\u001b[0m\n\u001b[1;32m     76\u001b[0m     \u001b[0;32mdef\u001b[0m \u001b[0mget_artist\u001b[0m\u001b[0;34m(\u001b[0m\u001b[0mself\u001b[0m\u001b[0;34m,\u001b[0m \u001b[0mid_\u001b[0m\u001b[0;34m)\u001b[0m\u001b[0;34m:\u001b[0m\u001b[0;34m\u001b[0m\u001b[0m\n",
      "\u001b[0;32m/wayfair/home/hkarimi/venvs/py36_kernel_dev/lib/python3.6/site-packages/lyricsgenius/api.py\u001b[0m in \u001b[0;36m_make_request\u001b[0;34m(self, path, method, params_)\u001b[0m\n\u001b[1;32m     59\u001b[0m                                             \u001b[0muri\u001b[0m\u001b[0;34m,\u001b[0m\u001b[0;34m\u001b[0m\u001b[0m\n\u001b[1;32m     60\u001b[0m                                             \u001b[0mtimeout\u001b[0m\u001b[0;34m=\u001b[0m\u001b[0mself\u001b[0m\u001b[0;34m.\u001b[0m\u001b[0mtimeout\u001b[0m\u001b[0;34m,\u001b[0m\u001b[0;34m\u001b[0m\u001b[0m\n\u001b[0;32m---> 61\u001b[0;31m                                             params=params_)\n\u001b[0m\u001b[1;32m     62\u001b[0m         \u001b[0;32mexcept\u001b[0m \u001b[0msocket\u001b[0m\u001b[0;34m.\u001b[0m\u001b[0mtimeout\u001b[0m \u001b[0;32mas\u001b[0m \u001b[0me\u001b[0m\u001b[0;34m:\u001b[0m\u001b[0;34m\u001b[0m\u001b[0m\n\u001b[1;32m     63\u001b[0m             \u001b[0mprint\u001b[0m\u001b[0;34m(\u001b[0m\u001b[0;34m\"Timeout raised and caught: {}\"\u001b[0m\u001b[0;34m.\u001b[0m\u001b[0mformat\u001b[0m\u001b[0;34m(\u001b[0m\u001b[0me\u001b[0m\u001b[0;34m)\u001b[0m\u001b[0;34m)\u001b[0m\u001b[0;34m\u001b[0m\u001b[0m\n",
      "\u001b[0;32m/wayfair/home/hkarimi/venvs/py36_kernel_dev/lib/python3.6/site-packages/requests/sessions.py\u001b[0m in \u001b[0;36mrequest\u001b[0;34m(self, method, url, params, data, headers, cookies, files, auth, timeout, allow_redirects, proxies, hooks, stream, verify, cert, json)\u001b[0m\n\u001b[1;32m    506\u001b[0m         }\n\u001b[1;32m    507\u001b[0m         \u001b[0msend_kwargs\u001b[0m\u001b[0;34m.\u001b[0m\u001b[0mupdate\u001b[0m\u001b[0;34m(\u001b[0m\u001b[0msettings\u001b[0m\u001b[0;34m)\u001b[0m\u001b[0;34m\u001b[0m\u001b[0m\n\u001b[0;32m--> 508\u001b[0;31m         \u001b[0mresp\u001b[0m \u001b[0;34m=\u001b[0m \u001b[0mself\u001b[0m\u001b[0;34m.\u001b[0m\u001b[0msend\u001b[0m\u001b[0;34m(\u001b[0m\u001b[0mprep\u001b[0m\u001b[0;34m,\u001b[0m \u001b[0;34m**\u001b[0m\u001b[0msend_kwargs\u001b[0m\u001b[0;34m)\u001b[0m\u001b[0;34m\u001b[0m\u001b[0m\n\u001b[0m\u001b[1;32m    509\u001b[0m \u001b[0;34m\u001b[0m\u001b[0m\n\u001b[1;32m    510\u001b[0m         \u001b[0;32mreturn\u001b[0m \u001b[0mresp\u001b[0m\u001b[0;34m\u001b[0m\u001b[0m\n",
      "\u001b[0;32m/wayfair/home/hkarimi/venvs/py36_kernel_dev/lib/python3.6/site-packages/requests/sessions.py\u001b[0m in \u001b[0;36msend\u001b[0;34m(self, request, **kwargs)\u001b[0m\n\u001b[1;32m    616\u001b[0m \u001b[0;34m\u001b[0m\u001b[0m\n\u001b[1;32m    617\u001b[0m         \u001b[0;31m# Send the request\u001b[0m\u001b[0;34m\u001b[0m\u001b[0;34m\u001b[0m\u001b[0m\n\u001b[0;32m--> 618\u001b[0;31m         \u001b[0mr\u001b[0m \u001b[0;34m=\u001b[0m \u001b[0madapter\u001b[0m\u001b[0;34m.\u001b[0m\u001b[0msend\u001b[0m\u001b[0;34m(\u001b[0m\u001b[0mrequest\u001b[0m\u001b[0;34m,\u001b[0m \u001b[0;34m**\u001b[0m\u001b[0mkwargs\u001b[0m\u001b[0;34m)\u001b[0m\u001b[0;34m\u001b[0m\u001b[0m\n\u001b[0m\u001b[1;32m    619\u001b[0m \u001b[0;34m\u001b[0m\u001b[0m\n\u001b[1;32m    620\u001b[0m         \u001b[0;31m# Total elapsed time of the request (approximately)\u001b[0m\u001b[0;34m\u001b[0m\u001b[0;34m\u001b[0m\u001b[0m\n",
      "\u001b[0;32m/wayfair/home/hkarimi/venvs/py36_kernel_dev/lib/python3.6/site-packages/requests/adapters.py\u001b[0m in \u001b[0;36msend\u001b[0;34m(self, request, stream, timeout, verify, cert, proxies)\u001b[0m\n\u001b[1;32m    519\u001b[0m                 \u001b[0;32mraise\u001b[0m \u001b[0mSSLError\u001b[0m\u001b[0;34m(\u001b[0m\u001b[0me\u001b[0m\u001b[0;34m,\u001b[0m \u001b[0mrequest\u001b[0m\u001b[0;34m=\u001b[0m\u001b[0mrequest\u001b[0m\u001b[0;34m)\u001b[0m\u001b[0;34m\u001b[0m\u001b[0m\n\u001b[1;32m    520\u001b[0m             \u001b[0;32melif\u001b[0m \u001b[0misinstance\u001b[0m\u001b[0;34m(\u001b[0m\u001b[0me\u001b[0m\u001b[0;34m,\u001b[0m \u001b[0mReadTimeoutError\u001b[0m\u001b[0;34m)\u001b[0m\u001b[0;34m:\u001b[0m\u001b[0;34m\u001b[0m\u001b[0m\n\u001b[0;32m--> 521\u001b[0;31m                 \u001b[0;32mraise\u001b[0m \u001b[0mReadTimeout\u001b[0m\u001b[0;34m(\u001b[0m\u001b[0me\u001b[0m\u001b[0;34m,\u001b[0m \u001b[0mrequest\u001b[0m\u001b[0;34m=\u001b[0m\u001b[0mrequest\u001b[0m\u001b[0;34m)\u001b[0m\u001b[0;34m\u001b[0m\u001b[0m\n\u001b[0m\u001b[1;32m    522\u001b[0m             \u001b[0;32melse\u001b[0m\u001b[0;34m:\u001b[0m\u001b[0;34m\u001b[0m\u001b[0m\n\u001b[1;32m    523\u001b[0m                 \u001b[0;32mraise\u001b[0m\u001b[0;34m\u001b[0m\u001b[0m\n",
      "\u001b[0;31mReadTimeout\u001b[0m: HTTPSConnectionPool(host='api.genius.com', port=443): Read timed out. (read timeout=5)"
     ]
    }
   ],
   "source": [
    "get_artists_songs(client, artists_names, verbose=True, overwrite=False)"
   ]
  },
  {
   "cell_type": "code",
   "execution_count": null,
   "metadata": {
    "collapsed": true
   },
   "outputs": [],
   "source": [
    "def remove_headers(text):\n",
    "    for header in ['Chrous', 'Refrain', 'Verse', 'Bridge', 'Break', 'Intro', 'Outro','[', ']', ':',\n",
    "                   '(', ')', '0', '1', '2', '3', '4','5', '6', '7', '8', '9']:\n",
    "        text = text.replace(header, ' ')\n",
    "    return text"
   ]
  },
  {
   "cell_type": "code",
   "execution_count": null,
   "metadata": {
    "collapsed": true
   },
   "outputs": [],
   "source": [
    "def remove_headers(artists_names):\n",
    "    for artist_name in artists_names:\n",
    "        filename = './data/lyrics_by_artist/{}.json'.format(artist_name.replace(' ',''))\n",
    "        with open(filename) as f:\n",
    "            data = json.load(f)\n",
    "\n",
    "        for i in range(0, len(data['artists'][0]['songs'])):\n",
    "                for header in ['Chrous', 'Refrain', 'Verse', 'Bridge', 'Break', 'Intro', 'Outro','[', ']', ':',\n",
    "                               '(', ')','x2', 'x3', 'x4','x5']:\n",
    "                data['artists'][0]['songs'][i]['lyrics'] = data['artists'][0]['songs'][i]['lyrics'].replace(header, '')\n",
    "\n",
    "        with open(filename, 'w') as f:\n",
    "            json.dump(data, f)"
   ]
  },
  {
   "cell_type": "code",
   "execution_count": null,
   "metadata": {
    "collapsed": true
   },
   "outputs": [],
   "source": [
    "remove_headers(artists_names)"
   ]
  },
  {
   "cell_type": "code",
   "execution_count": null,
   "metadata": {},
   "outputs": [],
   "source": [
    "filename = './data/lyrics_by_artist/Eagles.json'\n",
    "with open(filename) as f:\n",
    "    data = json.load(f)\n",
    "\n",
    "for song in data['artists'][0]['songs']:\n",
    "    print(song['lyrics'])"
   ]
  },
  {
   "cell_type": "code",
   "execution_count": null,
   "metadata": {},
   "outputs": [],
   "source": [
    "for i in range(0, len(data['artists'][0]['songs'])):\n",
    "    print(data['artists'][0]['songs'][i]['title'])\n",
    "    print(data['artists'][0]['songs'][i]['lyrics'][:100])\n",
    "    break"
   ]
  },
  {
   "cell_type": "code",
   "execution_count": null,
   "metadata": {
    "collapsed": true
   },
   "outputs": [],
   "source": []
  },
  {
   "cell_type": "code",
   "execution_count": null,
   "metadata": {
    "collapsed": true
   },
   "outputs": [],
   "source": []
  }
 ],
 "metadata": {
  "kernelspec": {
   "display_name": "Python 3.6 dev",
   "language": "python",
   "name": "py36_kernel_dev"
  },
  "language_info": {
   "codemirror_mode": {
    "name": "ipython",
    "version": 3
   },
   "file_extension": ".py",
   "mimetype": "text/x-python",
   "name": "python",
   "nbconvert_exporter": "python",
   "pygments_lexer": "ipython3",
   "version": "3.6.0"
  }
 },
 "nbformat": 4,
 "nbformat_minor": 2
}
